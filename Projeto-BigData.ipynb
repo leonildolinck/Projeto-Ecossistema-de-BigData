{
 "cells": [
  {
   "cell_type": "markdown",
   "id": "6e55cb59-f0d5-45bc-af42-24b02abe18ac",
   "metadata": {},
   "source": [
    "### Importação de bibliotecas"
   ]
  },
  {
   "cell_type": "code",
   "execution_count": 7,
   "id": "11355614-017d-4f26-a1db-8ad1b859e785",
   "metadata": {},
   "outputs": [],
   "source": [
    "# Importando a biblioteca pandas, importante para tratamento e visualização dos dados importados\n",
    "import pandas as pd\n",
    "# Importando a biblioteca bigquery, para que possamos transferir os arquibvos tratados para um banco de dados.\n",
    "from google.cloud import bigquery\n",
    "# Importando a biblioteca zipfile para descompactar os arquivos importados via API do Kaggle.\n",
    "import zipfile"
   ]
  },
  {
   "cell_type": "code",
   "execution_count": 43,
   "id": "e745c218-9640-40bf-88e6-f0529246cdc3",
   "metadata": {},
   "outputs": [
    {
     "name": "stdout",
     "output_type": "stream",
     "text": [
      "Dataset URL: https://www.kaggle.com/datasets/olistbr/brazilian-ecommerce\n",
      "License(s): CC-BY-NC-SA-4.0\n",
      "brazilian-ecommerce.zip: Skipping, found more recently modified local copy (use --force to force download)\n"
     ]
    }
   ],
   "source": [
    "# Download do conjunto de dados via API do Kaggle.\n",
    "!kaggle datasets download -d olistbr/brazilian-ecommerce"
   ]
  },
  {
   "cell_type": "code",
   "execution_count": 10,
   "id": "638b0d09-5870-4664-87a1-bc606a1ac46a",
   "metadata": {},
   "outputs": [],
   "source": [
    "#Descompactando arquivo recebido\n",
    "zip_file = 'brazilian-ecommerce.zip'\n",
    "# Selecionando uma pasta chamada /csv/ para melhorar a organização.\n",
    "destination_folder = 'csv/'\n",
    "with zipfile.ZipFile(zip_file, 'r') as zip_ref:\n",
    "    zip_ref.extractall(destination_folder)"
   ]
  },
  {
   "cell_type": "code",
   "execution_count": 39,
   "id": "227fcc6f-ef9b-489e-be2d-0739e85937db",
   "metadata": {},
   "outputs": [],
   "source": [
    "df_geolocation = pd.read_csv('csv/olist_geolocation_dataset.csv')\n",
    "df_customers = pd.read_csv('csv/olist_customers_dataset.csv')\n",
    "df_items = pd.read_csv('csv/olist_order_items_dataset.csv')\n",
    "df_payments = pd.read_csv('csv/olist_order_payments_dataset.csv')\n",
    "df_reviews = pd.read_csv('csv/olist_order_reviews_dataset.csv')\n",
    "df_orders = pd.read_csv('csv/olist_orders_dataset.csv')\n",
    "df_products = pd.read_csv('csv/olist_products_dataset.csv')\n",
    "df_sellers = pd.read_csv('csv/olist_sellers_dataset.csv')\n",
    "df_name = pd.read_csv('csv/product_category_name_translation.csv')"
   ]
  },
  {
   "cell_type": "code",
   "execution_count": null,
   "id": "33cbfb0a-fa16-40f7-ba14-1d8daa946a34",
   "metadata": {},
   "outputs": [],
   "source": []
  },
  {
   "cell_type": "code",
   "execution_count": null,
   "id": "f3894149-41de-425e-8c31-fce98fa7e6ee",
   "metadata": {},
   "outputs": [],
   "source": []
  },
  {
   "cell_type": "code",
   "execution_count": null,
   "id": "d541f176-b6ed-4074-9fc2-d6183115e286",
   "metadata": {},
   "outputs": [],
   "source": []
  },
  {
   "cell_type": "code",
   "execution_count": null,
   "id": "7c166874-5c94-4d19-9efe-f783fc97c437",
   "metadata": {},
   "outputs": [],
   "source": []
  },
  {
   "cell_type": "code",
   "execution_count": null,
   "id": "e292f54f-1b9e-4a20-b471-f106174c095e",
   "metadata": {},
   "outputs": [],
   "source": []
  },
  {
   "cell_type": "markdown",
   "id": "2a1f60d7-c7f1-4053-a149-f9cf57ae456b",
   "metadata": {},
   "source": [
    "### Carregamentos dos dados tratados para um Banco de Dados"
   ]
  },
  {
   "cell_type": "code",
   "execution_count": 6,
   "id": "0e237479-d529-4a90-87aa-8f1f28d0aca3",
   "metadata": {},
   "outputs": [
    {
     "ename": "NameError",
     "evalue": "name 'df' is not defined",
     "output_type": "error",
     "traceback": [
      "\u001b[1;31m---------------------------------------------------------------------------\u001b[0m",
      "\u001b[1;31mNameError\u001b[0m                                 Traceback (most recent call last)",
      "Cell \u001b[1;32mIn[6], line 1\u001b[0m\n\u001b[1;32m----> 1\u001b[0m df\u001b[38;5;241m.\u001b[39mto_gbq(destination_table\u001b[38;5;241m=\u001b[39m\u001b[38;5;124m'\u001b[39m\u001b[38;5;124mkoru-dados.projeto2.your_table\u001b[39m\u001b[38;5;124m'\u001b[39m, project_id\u001b[38;5;241m=\u001b[39m\u001b[38;5;124m'\u001b[39m\u001b[38;5;124myour_project_id\u001b[39m\u001b[38;5;124m'\u001b[39m, if_exists\u001b[38;5;241m=\u001b[39m\u001b[38;5;124m'\u001b[39m\u001b[38;5;124mreplace\u001b[39m\u001b[38;5;124m'\u001b[39m)\n",
      "\u001b[1;31mNameError\u001b[0m: name 'df' is not defined"
     ]
    }
   ],
   "source": [
    "df.to_gbq(destination_table='koru-dados.projeto2.your_table', project_id='koru-dados', if_exists='replace')"
   ]
  },
  {
   "cell_type": "code",
   "execution_count": null,
   "id": "fe7964a6-509f-4357-aa91-3f7cb725064b",
   "metadata": {},
   "outputs": [],
   "source": []
  }
 ],
 "metadata": {
  "kernelspec": {
   "display_name": "Python 3 (ipykernel)",
   "language": "python",
   "name": "python3"
  },
  "language_info": {
   "codemirror_mode": {
    "name": "ipython",
    "version": 3
   },
   "file_extension": ".py",
   "mimetype": "text/x-python",
   "name": "python",
   "nbconvert_exporter": "python",
   "pygments_lexer": "ipython3",
   "version": "3.11.5"
  }
 },
 "nbformat": 4,
 "nbformat_minor": 5
}
