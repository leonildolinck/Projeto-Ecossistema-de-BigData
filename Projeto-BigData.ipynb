{
 "cells": [
  {
   "cell_type": "code",
   "execution_count": 1,
   "id": "f692f4e3",
   "metadata": {},
   "outputs": [
    {
     "name": "stdout",
     "output_type": "stream",
     "text": [
      "Dataset URL: https://www.kaggle.com/datasets/olistbr/brazilian-ecommerce\n",
      "License(s): CC-BY-NC-SA-4.0\n",
      "Downloading brazilian-ecommerce.zip to C:\\Users\\Léo\\Documents\\GitHub\\Projeto-Ecossistema-de-BigData\n",
      "\n"
     ]
    },
    {
     "name": "stderr",
     "output_type": "stream",
     "text": [
      "\n",
      "  0%|          | 0.00/42.6M [00:00<?, ?B/s]\n",
      "  2%|2         | 1.00M/42.6M [00:00<00:31, 1.39MB/s]\n",
      "  5%|4         | 2.00M/42.6M [00:00<00:15, 2.80MB/s]\n",
      "  9%|9         | 4.00M/42.6M [00:00<00:06, 6.07MB/s]\n",
      " 19%|#8        | 8.00M/42.6M [00:01<00:02, 13.0MB/s]\n",
      " 28%|##8       | 12.0M/42.6M [00:01<00:01, 18.6MB/s]\n",
      " 38%|###7      | 16.0M/42.6M [00:01<00:01, 23.1MB/s]\n",
      " 47%|####6     | 20.0M/42.6M [00:01<00:00, 26.8MB/s]\n",
      " 56%|#####6    | 24.0M/42.6M [00:01<00:00, 28.4MB/s]\n",
      " 66%|######5   | 28.0M/42.6M [00:01<00:00, 30.5MB/s]\n",
      " 75%|#######5  | 32.0M/42.6M [00:01<00:00, 32.3MB/s]\n",
      " 84%|########4 | 36.0M/42.6M [00:01<00:00, 33.6MB/s]\n",
      " 94%|#########3| 40.0M/42.6M [00:02<00:00, 34.5MB/s]\n",
      "100%|##########| 42.6M/42.6M [00:02<00:00, 21.2MB/s]\n"
     ]
    }
   ],
   "source": [
    "!kaggle datasets download -d olistbr/brazilian-ecommerce\n"
   ]
  },
  {
   "cell_type": "code",
   "execution_count": null,
   "id": "034734cd",
   "metadata": {},
   "outputs": [],
   "source": []
  },
  {
   "cell_type": "code",
   "execution_count": null,
   "id": "767ed926",
   "metadata": {},
   "outputs": [],
   "source": []
  }
 ],
 "metadata": {
  "kernelspec": {
   "display_name": "Python 3 (ipykernel)",
   "language": "python",
   "name": "python3"
  },
  "language_info": {
   "codemirror_mode": {
    "name": "ipython",
    "version": 3
   },
   "file_extension": ".py",
   "mimetype": "text/x-python",
   "name": "python",
   "nbconvert_exporter": "python",
   "pygments_lexer": "ipython3",
   "version": "3.11.5"
  }
 },
 "nbformat": 4,
 "nbformat_minor": 5
}
