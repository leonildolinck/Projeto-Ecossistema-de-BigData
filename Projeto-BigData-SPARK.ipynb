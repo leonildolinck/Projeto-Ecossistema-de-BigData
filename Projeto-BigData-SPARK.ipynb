{
 "cells": [
  {
   "cell_type": "markdown",
   "id": "e2dbb336-1ffd-4a9c-8a0e-d403e4d07939",
   "metadata": {},
   "source": [
    "# Análise e Engenharia de Dados no E-commerce Brasileiro\r\n"
   ]
  },
  {
   "cell_type": "markdown",
   "id": "110e0c05-cd34-41d0-8fa7-2c19dbf29c19",
   "metadata": {},
   "source": [
    "## Introdução\r\n"
   ]
  },
  {
   "cell_type": "markdown",
   "id": "a675a504-a4f8-4fb9-8011-858f7e208b33",
   "metadata": {},
   "source": [
    "No presente projeto, utilizou-se o 'Brazilian E-Commerce Public Dataset by Olist' como base para simular o papel de engenheiros de dados em uma empresa de e-commerce. O propósito é extrair insights valiosos que não apenas melhorem as operações de negócios, mas também otimizem a logística e aprimorem a experiência do cliente. Ao mergulharmos nos dados reais do setor de e-commerce brasileiro, esta iniciativa oferece uma oportunidade prática de explorar tendências, identificar padrões e, consequentemente, orientar decisões estratégicas. Além disso, destacamos a importância de análises orientadas por dados no contexto dinâmico do comércio eletrônico, evidenciando como tais abordagens podem impulsionar melhorias tangíveis e sustentáveis no desempenho empresarial.\r\n",
    "\r\n"
   ]
  },
  {
   "cell_type": "code",
   "execution_count": 1,
   "id": "60c74fef-8441-4fa1-b829-49c7fcb9b187",
   "metadata": {},
   "outputs": [],
   "source": [
    "%%capture\n",
    "!pip install -r requirements.txt"
   ]
  },
  {
   "cell_type": "code",
   "execution_count": 2,
   "id": "51a87218-096f-4cd9-9430-2c2b6f0a628a",
   "metadata": {},
   "outputs": [],
   "source": [
    "import re"
   ]
  },
  {
   "cell_type": "markdown",
   "id": "3b2cc086-3ee0-41f8-9838-a9411471ba11",
   "metadata": {},
   "source": [
    "### Importação de bibliotecas"
   ]
  },
  {
   "cell_type": "code",
   "execution_count": 3,
   "id": "9d6d491c-1d0d-477c-8a0c-718ff2ae441c",
   "metadata": {},
   "outputs": [],
   "source": [
    "import os\n",
    "os.environ[\"PYARROW_IGNORE_TIMEZONE\"] = \"1\"\n",
    "\n",
    "import zipfile\n",
    "import pyspark\n",
    "import re\n",
    "\n",
    "import findspark\n",
    "import pyspark.sql.functions as F\n",
    "from pyspark.sql import SparkSession\n",
    "from pyspark.sql.functions import col\n",
    "from pyspark.sql.functions import when\n",
    "from pyspark.sql.functions import udf\n",
    "from pyspark.sql.functions import to_timestamp\n",
    "from pyspark.sql.types import BooleanType\n",
    "from pyspark.sql.types import StringType\n",
    "from pyspark.sql.types import IntegerType\n",
    "from pyspark.sql.types import TimestampType"
   ]
  },
  {
   "cell_type": "markdown",
   "id": "fb94a8ca-2707-42e4-ae0b-07ef542ad3b1",
   "metadata": {},
   "source": [
    "### Iniciando uma sessão Spark"
   ]
  },
  {
   "cell_type": "code",
   "execution_count": 4,
   "id": "9c251baa-f249-40cd-b8be-61b6ceb867bb",
   "metadata": {},
   "outputs": [],
   "source": [
    "import findspark\n",
    "\n",
    "findspark.init(r'C:\\ProgramData\\anaconda3\\pkgs\\pyspark-3.5.1-pyhd8ed1ab_0\\site-packages\\pyspark')\n",
    "findspark.find()\n",
    "\n",
    "spark = SparkSession.builder \\\n",
    "    .appName(\"Meu aplicativo Spark\") \\\n",
    "    .master(\"local[*]\") \\\n",
    "    .config(\"spark.sql.shuffle.partitions\", 4) \\\n",
    "    .config(\"spark.memory.offHeap.enabled\", \"true\") \\\n",
    "    .config(\"spark.driver.extraClassPath\", \"postgresql-42.7.3.jar\") \\\n",
    "    .config(\"spark.memory.offHeap.size\", \"8g\") \\\n",
    "    .getOrCreate()\n"
   ]
  },
  {
   "cell_type": "code",
   "execution_count": 5,
   "id": "e2039aca-87cb-4cdf-adeb-3c3a35258e8a",
   "metadata": {
    "scrolled": true
   },
   "outputs": [
    {
     "data": {
      "text/html": [
       "\n",
       "            <div>\n",
       "                <p><b>SparkSession - in-memory</b></p>\n",
       "                \n",
       "        <div>\n",
       "            <p><b>SparkContext</b></p>\n",
       "\n",
       "            <p><a href=\"http://Administrator:4040\">Spark UI</a></p>\n",
       "\n",
       "            <dl>\n",
       "              <dt>Version</dt>\n",
       "                <dd><code>v3.5.1</code></dd>\n",
       "              <dt>Master</dt>\n",
       "                <dd><code>local[*]</code></dd>\n",
       "              <dt>AppName</dt>\n",
       "                <dd><code>Meu aplicativo Spark</code></dd>\n",
       "            </dl>\n",
       "        </div>\n",
       "        \n",
       "            </div>\n",
       "        "
      ],
      "text/plain": [
       "<pyspark.sql.session.SparkSession at 0x1e616498350>"
      ]
     },
     "execution_count": 5,
     "metadata": {},
     "output_type": "execute_result"
    }
   ],
   "source": [
    "spark"
   ]
  },
  {
   "cell_type": "markdown",
   "id": "7cfe9095-43f0-46b8-8a5a-1a55fd867daa",
   "metadata": {},
   "source": [
    "### Importando dataset via Kaggle API"
   ]
  },
  {
   "cell_type": "code",
   "execution_count": 6,
   "id": "effa4b29-193c-4184-934e-596e4942d6bd",
   "metadata": {
    "scrolled": true
   },
   "outputs": [
    {
     "name": "stdout",
     "output_type": "stream",
     "text": [
      "Dataset URL: https://www.kaggle.com/datasets/olistbr/brazilian-ecommerce\n",
      "License(s): CC-BY-NC-SA-4.0\n",
      "brazilian-ecommerce.zip: Skipping, found more recently modified local copy (use --force to force download)\n"
     ]
    }
   ],
   "source": [
    "# Download do conjunto de dados via API do Kaggle.\\n\",\n",
    "!kaggle datasets download -d olistbr/brazilian-ecommerce"
   ]
  },
  {
   "cell_type": "code",
   "execution_count": 7,
   "id": "ba8ad602-b2ab-449b-8d50-1cc826a342ac",
   "metadata": {},
   "outputs": [],
   "source": [
    "#Descompactando arquivo recebido\n",
    "arquivo_zip = 'brazilian-ecommerce.zip'\n",
    "\n",
    "# Selecionando uma pasta chamada /csv/ para melhorar a organização.\n",
    "destination_folder = 'csv/'\n",
    "with zipfile.ZipFile(arquivo_zip, 'r') as zipado:\n",
    "    zipado.extractall(destination_folder)"
   ]
  },
  {
   "cell_type": "markdown",
   "id": "78f8e6dc-420a-4412-aa6c-fe4d1c7ee215",
   "metadata": {},
   "source": [
    "### Criação de dataframes"
   ]
  },
  {
   "cell_type": "code",
   "execution_count": 8,
   "id": "af617fa1-3019-4946-906f-06008e729480",
   "metadata": {},
   "outputs": [],
   "source": [
    "df_geolocation = spark.read.csv('csv/olist_geolocation_dataset.csv', header=True, inferSchema=True)\n",
    "df_customers = spark.read.csv('csv/olist_customers_dataset.csv', header=True, inferSchema=True)\n",
    "df_items = spark.read.csv('csv/olist_order_items_dataset.csv', header=True, inferSchema=True)\n",
    "df_payments = spark.read.csv('csv/olist_order_payments_dataset.csv', header=True, inferSchema=True)\n",
    "df_reviews = spark.read.csv('csv/olist_order_reviews_dataset.csv', header=True, inferSchema=True)\n",
    "df_orders = spark.read.csv('csv/olist_orders_dataset.csv', header=True, inferSchema=True)\n",
    "df_products = spark.read.csv('csv/olist_products_dataset.csv', header=True, inferSchema=True)\n",
    "df_sellers = spark.read.csv('csv/olist_sellers_dataset.csv', header=True, inferSchema=True)\n",
    "df_names = spark.read.csv('csv/product_category_name_translation.csv', header=True, inferSchema=True)"
   ]
  },
  {
   "cell_type": "markdown",
   "id": "f9c6be41-c707-4aa8-8c17-f21d9f8507b9",
   "metadata": {},
   "source": [
    "# Tratamento"
   ]
  },
  {
   "cell_type": "markdown",
   "id": "166275fc-8ac1-4538-ab8f-3871bc4416fd",
   "metadata": {},
   "source": [
    "## Dataset 'geolocation'\n",
    "Geolocalização: Fornece dados de geolocalização relacionados aos clientes.\n",
    "### Descrição das variáveis\n",
    "![Geolocalização](img/dicionario/geolocalizacao.png)"
   ]
  },
  {
   "cell_type": "markdown",
   "id": "9263bd07-9948-4da1-8c2f-8d5c9b40e385",
   "metadata": {},
   "source": [
    "### Limpeza e tratamento dos dados"
   ]
  },
  {
   "cell_type": "code",
   "execution_count": 9,
   "id": "faf459ab-fc62-4055-99b4-63264541e3d0",
   "metadata": {},
   "outputs": [
    {
     "name": "stdout",
     "output_type": "stream",
     "text": [
      "linhas:  1000163\n",
      "colunas:  5\n"
     ]
    }
   ],
   "source": [
    "print('linhas: ', df_geolocation.count())\n",
    "print('colunas: ', len(df_geolocation.columns))"
   ]
  },
  {
   "cell_type": "code",
   "execution_count": 10,
   "id": "34797642-af86-4bde-a601-8ffd905999aa",
   "metadata": {},
   "outputs": [
    {
     "name": "stdout",
     "output_type": "stream",
     "text": [
      "+-------+---------------------------+------------------+-------------------+----------------+-----------------+\n",
      "|summary|geolocation_zip_code_prefix|   geolocation_lat|    geolocation_lng|geolocation_city|geolocation_state|\n",
      "+-------+---------------------------+------------------+-------------------+----------------+-----------------+\n",
      "|  count|                    1000163|           1000163|            1000163|         1000163|          1000163|\n",
      "|   mean|          36574.16646586607|-21.17615291038373| -46.39054132093608|            NULL|             NULL|\n",
      "| stddev|         30549.335710320098| 5.715866308822804|  4.269748306619733|            NULL|             NULL|\n",
      "|    min|                       1001| -36.6053744107061|-101.46676644931476|        * cidade|               AC|\n",
      "|    max|                      99990| 45.06593318269697| 121.10539381057764|            óleo|               TO|\n",
      "+-------+---------------------------+------------------+-------------------+----------------+-----------------+\n",
      "\n"
     ]
    }
   ],
   "source": [
    "df_geolocation.describe().show()"
   ]
  },
  {
   "cell_type": "markdown",
   "id": "64c35e54-226c-4f7d-bfee-bc49468dac65",
   "metadata": {},
   "source": [
    "Tipos de Dados: O conjunto de dados contém uma mistura de tipos de dados. geolocation_zip_code_prefix é do tipo int64, o que é apropriado para códigos postais. geolocation_lat (latitude) e geolocation_lng (longitude) são do tipo float64, que é adequado para coordenadas geográficas. geolocation_city e geolocation_state são do tipo objeto, indicando que provavelmente são valores de string representando nomes geográficos.\r\n",
    "m Valores Ausentes ou Zero: Nenhuma das colunas contém valores nulos ou zero. Isso indica boa integridade dos dados para esses campos.\r\n",
    "\r\n",
    "Valor Negativo: As colunas geolocation_lat e geolocation_lng mostram quase todos os valores como negativos (99% e 100%, respectivamente). Isso é realmente esperado para coordenadas no Brasil, já que está localizado no Hemisfério Ocidental (longitude negativa) e principalmente no Hemisfério Sul (latitude negati\n",
    "\n",
    "Duplicados: O conjunto de dados possui um número muito grande de linhas duplicadas (261.831), o que sugere um problema de entrada de dados ou que o processo de coleta de dados capturou várias entradas para os mesmos pontos de geolocalização.oints.df\r\n",
    "\r\n"
   ]
  },
  {
   "cell_type": "markdown",
   "id": "c99fbaea-c4ed-4373-a338-6fd5fb0660e5",
   "metadata": {},
   "source": [
    "### Corrigindo nomes de cidades\n"
   ]
  },
  {
   "cell_type": "code",
   "execution_count": 11,
   "id": "247caff9-efbf-44bb-b9f2-347739890445",
   "metadata": {},
   "outputs": [],
   "source": [
    "def filtrar_cidade(data, nome_coluna):\n",
    "    padrao = \"[^a-zA-Z0-9\\s\\-\\'\\+]\"\n",
    "    df_filtrado = data.filter(col(nome_coluna).rlike(padrao))    \n",
    "    return df_filtrado\n"
   ]
  },
  {
   "cell_type": "code",
   "execution_count": 12,
   "id": "3b495b5e-270d-45e7-86bf-580f574bf1fe",
   "metadata": {},
   "outputs": [
    {
     "data": {
      "text/plain": [
       "DataFrame[geolocation_zip_code_prefix: int, geolocation_lat: double, geolocation_lng: double, geolocation_city: string, geolocation_state: string]"
      ]
     },
     "execution_count": 12,
     "metadata": {},
     "output_type": "execute_result"
    }
   ],
   "source": [
    "filtrar_cidade(df_geolocation, 'geolocation_city')"
   ]
  },
  {
   "cell_type": "markdown",
   "id": "5bac92c3-26d7-4d89-b098-8c3bee26a615",
   "metadata": {},
   "source": [
    "## Dataset 'customers'\n",
    "Clientes: Contém informações sobre os clientes do sistema de comércio eletrônico.\n",
    "### Descrição das variáveis\n",
    "![Clientes](img/dicionario/clientes.png)"
   ]
  },
  {
   "cell_type": "markdown",
   "id": "5d3841b5-17aa-4d5f-b423-c0b9dc8b9b9f",
   "metadata": {},
   "source": [
    "### Limpeza e tratamento dos dados"
   ]
  },
  {
   "cell_type": "code",
   "execution_count": 13,
   "id": "cac0181f-2353-49e6-a1ce-02fdf49bfd0a",
   "metadata": {},
   "outputs": [
    {
     "name": "stdout",
     "output_type": "stream",
     "text": [
      "linhas:  99441\n",
      "colunas:  5\n"
     ]
    }
   ],
   "source": [
    "print('linhas: ', df_customers.count())\n",
    "print('colunas: ', len(df_customers.columns))"
   ]
  },
  {
   "cell_type": "code",
   "execution_count": 14,
   "id": "e8ea18e5-feca-4625-ab87-b9e752f38488",
   "metadata": {},
   "outputs": [
    {
     "name": "stdout",
     "output_type": "stream",
     "text": [
      "+--------------------+--------------------+------------------------+--------------------+--------------+\n",
      "|         customer_id|  customer_unique_id|customer_zip_code_prefix|       customer_city|customer_state|\n",
      "+--------------------+--------------------+------------------------+--------------------+--------------+\n",
      "|06b8999e2fba1a1fb...|861eff4711a542e4b...|                   14409|              franca|            SP|\n",
      "|18955e83d337fd6b2...|290c77bc529b7ac93...|                    9790|sao bernardo do c...|            SP|\n",
      "|4e7b3e00288586ebd...|060e732b5b29e8181...|                    1151|           sao paulo|            SP|\n",
      "|b2b6027bc5c5109e5...|259dac757896d24d7...|                    8775|     mogi das cruzes|            SP|\n",
      "|4f2d8ab171c80ec83...|345ecd01c38d18a90...|                   13056|            campinas|            SP|\n",
      "|879864dab9bc30475...|4c93744516667ad3b...|                   89254|      jaragua do sul|            SC|\n",
      "|fd826e7cf63160e53...|addec96d2e059c80c...|                    4534|           sao paulo|            SP|\n",
      "|5e274e7a0c3809e14...|57b2a98a409812fe9...|                   35182|             timoteo|            MG|\n",
      "|5adf08e34b2e99398...|1175e95fb47ddff9d...|                   81560|            curitiba|            PR|\n",
      "|4b7139f34592b3a31...|9afe194fb833f79e3...|                   30575|      belo horizonte|            MG|\n",
      "+--------------------+--------------------+------------------------+--------------------+--------------+\n",
      "only showing top 10 rows\n",
      "\n"
     ]
    }
   ],
   "source": [
    "df_customers.show(10)"
   ]
  },
  {
   "cell_type": "code",
   "execution_count": 15,
   "id": "47efae14-9050-4275-bce0-96c7c7f25153",
   "metadata": {},
   "outputs": [
    {
     "name": "stdout",
     "output_type": "stream",
     "text": [
      "root\n",
      " |-- customer_id: string (nullable = true)\n",
      " |-- customer_unique_id: string (nullable = true)\n",
      " |-- customer_zip_code_prefix: integer (nullable = true)\n",
      " |-- customer_city: string (nullable = true)\n",
      " |-- customer_state: string (nullable = true)\n",
      "\n"
     ]
    }
   ],
   "source": [
    "df_customers.printSchema()"
   ]
  },
  {
   "cell_type": "code",
   "execution_count": 16,
   "id": "9f8e7e2e-4b0b-4799-a233-3b9793cc580a",
   "metadata": {},
   "outputs": [
    {
     "name": "stdout",
     "output_type": "stream",
     "text": [
      "Contagem de valores nulos:\n",
      "Coluna: customer_id | Quantidade: 0\n",
      "Coluna: customer_unique_id | Quantidade: 0\n",
      "Coluna: customer_zip_code_prefix | Quantidade: 0\n",
      "Coluna: customer_city | Quantidade: 0\n",
      "Coluna: customer_state | Quantidade: 0\n",
      "\n",
      "\n",
      "Contagem de valores zerados:\n",
      "Coluna: customer_id | Quantidade: 0\n",
      "Coluna: customer_unique_id | Quantidade: 0\n",
      "Coluna: customer_zip_code_prefix | Quantidade: 0\n",
      "Coluna: customer_city | Quantidade: 0\n",
      "Coluna: customer_state | Quantidade: 0\n",
      "\n",
      "\n",
      "Contagem de valores negativos:\n",
      "Coluna: customer_id | Quantidade: 0\n",
      "Coluna: customer_unique_id | Quantidade: 0\n",
      "Coluna: customer_zip_code_prefix | Quantidade: 0\n",
      "Coluna: customer_city | Quantidade: 0\n",
      "Coluna: customer_state | Quantidade: 0\n"
     ]
    }
   ],
   "source": [
    "print(f'Contagem de valores nulos:')\n",
    "for coluna in df_customers.columns:\n",
    "    print('Coluna:', coluna, '| Quantidade:', df_customers.filter(df_customers[coluna].isNull()).count())\n",
    "\n",
    "print('\\n')\n",
    "\n",
    "print(f'Contagem de valores zerados:')\n",
    "for coluna in df_customers.columns:\n",
    "    print('Coluna:', coluna, '| Quantidade:', df_customers.filter(df_customers[coluna] == 0).count())\n",
    "\n",
    "print('\\n')\n",
    "\n",
    "print(f'Contagem de valores negativos:')\n",
    "for coluna in df_customers.columns:\n",
    "    print('Coluna:', coluna, '| Quantidade:', df_customers.filter(df_customers[coluna] < 0).count())"
   ]
  },
  {
   "cell_type": "code",
   "execution_count": 17,
   "id": "31d67891-b8dc-44d0-93d5-1e5ba25f85a3",
   "metadata": {},
   "outputs": [
    {
     "name": "stdout",
     "output_type": "stream",
     "text": [
      "+--------------------+--------------------+--------------------+--------------+------------------------+\n",
      "|         customer_id|  customer_unique_id|       customer_city|customer_state|customer_zip_code_prefix|\n",
      "+--------------------+--------------------+--------------------+--------------+------------------------+\n",
      "|06b8999e2fba1a1fb...|861eff4711a542e4b...|              franca|            SP|                   14409|\n",
      "|18955e83d337fd6b2...|290c77bc529b7ac93...|sao bernardo do c...|            SP|                    9790|\n",
      "|4e7b3e00288586ebd...|060e732b5b29e8181...|           sao paulo|            SP|                    1151|\n",
      "|b2b6027bc5c5109e5...|259dac757896d24d7...|     mogi das cruzes|            SP|                    8775|\n",
      "|4f2d8ab171c80ec83...|345ecd01c38d18a90...|            campinas|            SP|                   13056|\n",
      "|879864dab9bc30475...|4c93744516667ad3b...|      jaragua do sul|            SC|                   89254|\n",
      "|fd826e7cf63160e53...|addec96d2e059c80c...|           sao paulo|            SP|                    4534|\n",
      "|5e274e7a0c3809e14...|57b2a98a409812fe9...|             timoteo|            MG|                   35182|\n",
      "|5adf08e34b2e99398...|1175e95fb47ddff9d...|            curitiba|            PR|                   81560|\n",
      "|4b7139f34592b3a31...|9afe194fb833f79e3...|      belo horizonte|            MG|                   30575|\n",
      "|9fb35e4ed6f0a14a4...|2a7745e1ed516b289...|       montes claros|            MG|                   39400|\n",
      "|5aa9e4fdd4dfd2095...|2a46fb94aef5cbeeb...|      rio de janeiro|            RJ|                   20231|\n",
      "|b2d1536598b73a9ab...|918dc87cd72cd9f6e...|    lencois paulista|            SP|                   18682|\n",
      "|eabebad39a88bb6f5...|295c05e81917928d7...|           sao paulo|            SP|                    5704|\n",
      "|1f1c7bf1c9b041b29...|3151a81801c838636...|       caxias do sul|            RS|                   95110|\n",
      "|206f3129c0e4d7d0b...|21f748a16f4e1688a...|          piracicaba|            SP|                   13412|\n",
      "|a7c125a0a07b75146...|5c2991dbd08bbf3cf...|      rio de janeiro|            RJ|                   22750|\n",
      "|c5c61596a3b6bd0ce...|b6e99561fe6f34a55...|           guarulhos|            SP|                    7124|\n",
      "|9b8ce803689b3562d...|7f3a72e8f988c6e73...|           sao paulo|            SP|                    5416|\n",
      "|49d0ea0986edde72d...|3e6fd6b2f0d499456...|              pacaja|            PA|                   68485|\n",
      "+--------------------+--------------------+--------------------+--------------+------------------------+\n",
      "only showing top 20 rows\n",
      "\n"
     ]
    }
   ],
   "source": [
    "df_customers = df_customers.withColumn(\"customer_zip_code_prefix_INT\", df_customers[\"customer_zip_code_prefix\"].cast(IntegerType()))\n",
    "df_customers = df_customers.drop('customer_zip_code_prefix')\n",
    "df_customers = df_customers.withColumnRenamed('customer_zip_code_prefix_INT', 'customer_zip_code_prefix')\n",
    "df_customers.show()"
   ]
  },
  {
   "cell_type": "code",
   "execution_count": 18,
   "id": "0fd39d3a-87e4-4fba-8582-15aadb2eb333",
   "metadata": {},
   "outputs": [
    {
     "name": "stdout",
     "output_type": "stream",
     "text": [
      "+--------------------+--------------------+--------------------+--------------+------------------------+----------+\n",
      "|         customer_id|  customer_unique_id|       customer_city|customer_state|customer_zip_code_prefix|cep_valido|\n",
      "+--------------------+--------------------+--------------------+--------------+------------------------+----------+\n",
      "|06b8999e2fba1a1fb...|861eff4711a542e4b...|              franca|            SP|                   14409|    valido|\n",
      "|18955e83d337fd6b2...|290c77bc529b7ac93...|sao bernardo do c...|            SP|                    9790|    valido|\n",
      "|4e7b3e00288586ebd...|060e732b5b29e8181...|           sao paulo|            SP|                    1151|    valido|\n",
      "|b2b6027bc5c5109e5...|259dac757896d24d7...|     mogi das cruzes|            SP|                    8775|    valido|\n",
      "|4f2d8ab171c80ec83...|345ecd01c38d18a90...|            campinas|            SP|                   13056|    valido|\n",
      "|879864dab9bc30475...|4c93744516667ad3b...|      jaragua do sul|            SC|                   89254|    valido|\n",
      "|fd826e7cf63160e53...|addec96d2e059c80c...|           sao paulo|            SP|                    4534|    valido|\n",
      "|5e274e7a0c3809e14...|57b2a98a409812fe9...|             timoteo|            MG|                   35182|    valido|\n",
      "|5adf08e34b2e99398...|1175e95fb47ddff9d...|            curitiba|            PR|                   81560|    valido|\n",
      "|4b7139f34592b3a31...|9afe194fb833f79e3...|      belo horizonte|            MG|                   30575|    valido|\n",
      "|9fb35e4ed6f0a14a4...|2a7745e1ed516b289...|       montes claros|            MG|                   39400|    valido|\n",
      "|5aa9e4fdd4dfd2095...|2a46fb94aef5cbeeb...|      rio de janeiro|            RJ|                   20231|    valido|\n",
      "|b2d1536598b73a9ab...|918dc87cd72cd9f6e...|    lencois paulista|            SP|                   18682|    valido|\n",
      "|eabebad39a88bb6f5...|295c05e81917928d7...|           sao paulo|            SP|                    5704|    valido|\n",
      "|1f1c7bf1c9b041b29...|3151a81801c838636...|       caxias do sul|            RS|                   95110|    valido|\n",
      "|206f3129c0e4d7d0b...|21f748a16f4e1688a...|          piracicaba|            SP|                   13412|    valido|\n",
      "|a7c125a0a07b75146...|5c2991dbd08bbf3cf...|      rio de janeiro|            RJ|                   22750|    valido|\n",
      "|c5c61596a3b6bd0ce...|b6e99561fe6f34a55...|           guarulhos|            SP|                    7124|    valido|\n",
      "|9b8ce803689b3562d...|7f3a72e8f988c6e73...|           sao paulo|            SP|                    5416|    valido|\n",
      "|49d0ea0986edde72d...|3e6fd6b2f0d499456...|              pacaja|            PA|                   68485|    valido|\n",
      "+--------------------+--------------------+--------------------+--------------+------------------------+----------+\n",
      "only showing top 20 rows\n",
      "\n"
     ]
    }
   ],
   "source": [
    "intervalos_cep_uf = {'AC': (69900, 69999),\n",
    "                     'AL': (57000, 57999),\n",
    "                     'AP': (68900, 68999),\n",
    "                     'AM': ((69000, 69299), (69400, 69899)),\n",
    "                     'BA': (40000, 48999),\n",
    "                     'CE': (60000, 63999),\n",
    "                     'DF': (70000, 73699),\n",
    "                     'ES': (29000, 29999),\n",
    "                     'GO': ((72800, 72999), (73700, 76799)),\n",
    "                     'MA': (65000, 65999),\n",
    "                     'MT': (78000, 78899),\n",
    "                     'MS': (79000, 79999),\n",
    "                     'MG': (30000, 39999),\n",
    "                     'PA': (66000, 68899),\n",
    "                     'PB': (58000, 58999),\n",
    "                     'PR': (80000, 87999),\n",
    "                     'PE': (50000, 56999),\n",
    "                     'PI': (64000, 64999),\n",
    "                     'RJ': (20000, 28999),\n",
    "                     'RN': (59000, 59999),\n",
    "                     'RS': (90000, 99999),\n",
    "                     'RO': (76800, 76999),\n",
    "                     'RR': (69300, 69399),\n",
    "                     'SC': (88000, 89999),\n",
    "                     'SP': (1000, 19999),\n",
    "                     'SE': (49000, 49999),\n",
    "                     'TO': (77000, 77999)}\n",
    "\n",
    "def verifica_cep(cep, estado):\n",
    "  intervalo_valido = f'invalido'\n",
    "  intervalo = intervalos_cep_uf[estado]\n",
    "  if all(isinstance(elemento, tuple) for elemento in intervalo):\n",
    "    primeira, segunda = intervalo\n",
    "    if primeira[0] <= cep <= primeira[1] or segunda[0] <= cep <= segunda[1]:\n",
    "      intervalo_valido = f'valido'\n",
    "  else:\n",
    "    if intervalo[0] <= cep <= intervalo[1]:\n",
    "      intervalo_valido = f'valido'\n",
    "  return intervalo_valido\n",
    "\n",
    "verificar_cep_valido_udf = udf(verifica_cep, StringType())\n",
    "df_customers = df_customers.withColumn('cep_valido', verificar_cep_valido_udf(col('customer_zip_code_prefix'), col('customer_state')))\n",
    "df_customers.show()"
   ]
  },
  {
   "cell_type": "code",
   "execution_count": 19,
   "id": "3a668afa-c214-4d28-b18e-d9d9b58c7297",
   "metadata": {},
   "outputs": [
    {
     "name": "stdout",
     "output_type": "stream",
     "text": [
      "root\n",
      " |-- customer_id: string (nullable = true)\n",
      " |-- customer_unique_id: string (nullable = true)\n",
      " |-- customer_city: string (nullable = true)\n",
      " |-- customer_state: string (nullable = true)\n",
      " |-- customer_zip_code_prefix: integer (nullable = true)\n",
      " |-- cep_valido: string (nullable = true)\n",
      "\n"
     ]
    }
   ],
   "source": [
    "df_customers.printSchema()"
   ]
  },
  {
   "cell_type": "code",
   "execution_count": 20,
   "id": "aa6c6e38-e557-4a1e-b79d-ffa9fc4eafca",
   "metadata": {},
   "outputs": [
    {
     "name": "stdout",
     "output_type": "stream",
     "text": [
      "+-----------+------------------+-------------+--------------+------------------------+----------+\n",
      "|customer_id|customer_unique_id|customer_city|customer_state|customer_zip_code_prefix|cep_valido|\n",
      "+-----------+------------------+-------------+--------------+------------------------+----------+\n",
      "+-----------+------------------+-------------+--------------+------------------------+----------+\n",
      "\n"
     ]
    }
   ],
   "source": [
    "df_customers = df_customers.filter(F.col(\"cep_valido\") == \"invalido\")\n",
    "df_customers.show()"
   ]
  },
  {
   "cell_type": "markdown",
   "id": "e87e2a10-e985-4a5b-aa60-3d91dc84f193",
   "metadata": {},
   "source": [
    "Tipos de dados: os tipos de dados no conjunto de dados incluem int64 para a coluna customer_zip_code_prefix e object para todas as outras colunas, como customer_id, customer_unique_id, customer_city e customer_state.\r\n",
    "\r\n",
    "Sem valores ausentes ou negativos: nenhuma das colunas contém valores nulos ou negativos. Isso indica boa integridade de dados para esses campos.\r\n",
    "\r\n",
    "Sem dupdicatas: não há linhas duplicadas neste segmento do conjunto de dados, o que sugere que cada entrada é única.\r\n",
    "\r\n",
    "Diversidade de dados: Os vaamostra únicaunique para customer_state revelam que o conjunto de dados inclui clientes de uma ampla variedade de estados brasileiros, o que pode ser valioso para segmentação de mercado e análise regional."
   ]
  },
  {
   "cell_type": "markdown",
   "id": "cd27f3b1-6da6-43e5-a207-4caa5ddea187",
   "metadata": {},
   "source": [
    "## Dataset 'items'\n",
    "Itens de Pedido : A tabela contém informações sobre itens pedidos em um sistema de comércio eletrônico. Cada linha representa um item dentro de um pedido.\n",
    "### Descrição das variáveis\n",
    "![Clientes](img/dicionario/itenspedidos.png)"
   ]
  },
  {
   "cell_type": "markdown",
   "id": "6220d57a-9516-4ef5-a0d1-d2a8f52ec945",
   "metadata": {},
   "source": [
    "### Limpeza e tratamento dos dados"
   ]
  },
  {
   "cell_type": "code",
   "execution_count": 21,
   "id": "2867485b-43e6-4dcb-b3e5-1bc37f65f7f4",
   "metadata": {},
   "outputs": [
    {
     "name": "stdout",
     "output_type": "stream",
     "text": [
      "linhas:  112650\n",
      "colunas:  7\n"
     ]
    }
   ],
   "source": [
    "print('linhas: ', df_items.count())\n",
    "print('colunas: ', len(df_items.columns))"
   ]
  },
  {
   "cell_type": "code",
   "execution_count": 22,
   "id": "89945379-4cb5-45bd-a7f3-02fb3c028e14",
   "metadata": {},
   "outputs": [
    {
     "name": "stdout",
     "output_type": "stream",
     "text": [
      "+-------+--------------------+------------------+--------------------+--------------------+------------------+------------------+\n",
      "|summary|            order_id|     order_item_id|          product_id|           seller_id|             price|     freight_value|\n",
      "+-------+--------------------+------------------+--------------------+--------------------+------------------+------------------+\n",
      "|  count|              112650|            112650|              112650|              112650|            112650|            112650|\n",
      "|   mean|                NULL|1.1978339991122948|                NULL|                NULL|120.65373901464174|19.990319928982977|\n",
      "| stddev|                NULL|0.7051240313951721|                NULL|                NULL| 183.6339280502595|15.806405412297098|\n",
      "|    min|00010242fe8c5a6d1...|                 1|00066f42aeeb9f300...|0015a82c2db000af6...|              0.85|               0.0|\n",
      "|    max|fffe41c64501cc87c...|                21|fffe9eeff12fcbd74...|ffff564a4f9085cd2...|            6735.0|            409.68|\n",
      "+-------+--------------------+------------------+--------------------+--------------------+------------------+------------------+\n",
      "\n"
     ]
    }
   ],
   "source": [
    "df_items.describe().show(10)"
   ]
  },
  {
   "cell_type": "code",
   "execution_count": 23,
   "id": "bc703714-a4e6-4b8f-97f7-d41e961373ad",
   "metadata": {},
   "outputs": [
    {
     "name": "stdout",
     "output_type": "stream",
     "text": [
      "+--------------------+-------------+--------------------+--------------------+-------------------+------+-------------+\n",
      "|            order_id|order_item_id|          product_id|           seller_id|shipping_limit_date| price|freight_value|\n",
      "+--------------------+-------------+--------------------+--------------------+-------------------+------+-------------+\n",
      "|00010242fe8c5a6d1...|            1|4244733e06e7ecb49...|48436dade18ac8b2b...|2017-09-19 09:45:35|  58.9|        13.29|\n",
      "|00018f77f2f0320c5...|            1|e5f2d52b802189ee6...|dd7ddc04e1b6c2c61...|2017-05-03 11:05:13| 239.9|        19.93|\n",
      "|000229ec398224ef6...|            1|c777355d18b72b67a...|5b51032eddd242adc...|2018-01-18 14:48:30| 199.0|        17.87|\n",
      "|00024acbcdf0a6daa...|            1|7634da152a4610f15...|9d7a1d34a50524090...|2018-08-15 10:10:18| 12.99|        12.79|\n",
      "|00042b26cf59d7ce6...|            1|ac6c3623068f30de0...|df560393f3a51e745...|2017-02-13 13:57:51| 199.9|        18.14|\n",
      "|00048cc3ae777c65d...|            1|ef92defde845ab845...|6426d21aca402a131...|2017-05-23 03:55:27|  21.9|        12.69|\n",
      "|00054e8431b9d7675...|            1|8d4f2bb7e93e6710a...|7040e82f899a04d1b...|2017-12-14 12:10:31|  19.9|        11.85|\n",
      "|000576fe39319847c...|            1|557d850972a7d6f79...|5996cddab893a4652...|2018-07-10 12:30:45| 810.0|        70.75|\n",
      "|0005a1a1728c9d785...|            1|310ae3c140ff94b03...|a416b6a846a117243...|2018-03-26 18:31:29|145.95|        11.65|\n",
      "|0005f50442cb953dc...|            1|4535b0e1091c278df...|ba143b05f0110f0dc...|2018-07-06 14:10:56| 53.99|         11.4|\n",
      "+--------------------+-------------+--------------------+--------------------+-------------------+------+-------------+\n",
      "only showing top 10 rows\n",
      "\n"
     ]
    }
   ],
   "source": [
    "df_items.show(10)"
   ]
  },
  {
   "cell_type": "code",
   "execution_count": 24,
   "id": "dda0780a-1889-4cea-b652-9e1cfcdbae54",
   "metadata": {},
   "outputs": [
    {
     "name": "stdout",
     "output_type": "stream",
     "text": [
      "root\n",
      " |-- order_id: string (nullable = true)\n",
      " |-- order_item_id: integer (nullable = true)\n",
      " |-- product_id: string (nullable = true)\n",
      " |-- seller_id: string (nullable = true)\n",
      " |-- shipping_limit_date: timestamp (nullable = true)\n",
      " |-- price: double (nullable = true)\n",
      " |-- freight_value: double (nullable = true)\n",
      "\n"
     ]
    }
   ],
   "source": [
    "df_items.printSchema()"
   ]
  },
  {
   "cell_type": "code",
   "execution_count": 25,
   "id": "61db59a8-f63c-4257-bbba-bab35a431e8a",
   "metadata": {},
   "outputs": [
    {
     "name": "stdout",
     "output_type": "stream",
     "text": [
      "Contagem de valores nulos:\n",
      "Coluna: order_id | Quantidade: 0\n",
      "Coluna: order_item_id | Quantidade: 0\n",
      "Coluna: product_id | Quantidade: 0\n",
      "Coluna: seller_id | Quantidade: 0\n",
      "Coluna: shipping_limit_date | Quantidade: 0\n",
      "Coluna: price | Quantidade: 0\n",
      "Coluna: freight_value | Quantidade: 0\n"
     ]
    }
   ],
   "source": [
    "print(f'Contagem de valores nulos:')\n",
    "for coluna in df_items.columns:\n",
    "    print('Coluna:', coluna, '| Quantidade:', df_items.filter(df_items[coluna].isNull()).count())"
   ]
  },
  {
   "cell_type": "code",
   "execution_count": 26,
   "id": "00800ba1-1170-4613-a012-463160b4c8fb",
   "metadata": {},
   "outputs": [
    {
     "name": "stdout",
     "output_type": "stream",
     "text": [
      "Contagem de valores zerados:\n",
      "Coluna: order_id | Quantidade: 0\n",
      "Coluna: order_item_id | Quantidade: 0\n",
      "Coluna: product_id | Quantidade: 0\n",
      "Coluna: seller_id | Quantidade: 0\n",
      "Coluna: price | Quantidade: 0\n",
      "Coluna: freight_value | Quantidade: 383\n"
     ]
    }
   ],
   "source": [
    "print(f'Contagem de valores zerados:')\n",
    "for coluna in df_items.columns:\n",
    "    if isinstance(df_items.schema[coluna].dataType, TimestampType):\n",
    "        continue\n",
    "    print('Coluna:', coluna, '| Quantidade:', df_items.filter(df_items[coluna] == 0).count())"
   ]
  },
  {
   "cell_type": "code",
   "execution_count": 27,
   "id": "ab127897-3efa-47ff-b1a8-c1d9819af70c",
   "metadata": {},
   "outputs": [
    {
     "name": "stdout",
     "output_type": "stream",
     "text": [
      "Contagem de valores negativos:\n",
      "Coluna: order_id | Quantidade: 0\n",
      "Coluna: order_item_id | Quantidade: 0\n",
      "Coluna: product_id | Quantidade: 0\n",
      "Coluna: seller_id | Quantidade: 0\n",
      "Coluna: price | Quantidade: 0\n",
      "Coluna: freight_value | Quantidade: 0\n"
     ]
    }
   ],
   "source": [
    "print(f'Contagem de valores negativos:')\n",
    "for coluna in df_items.columns:\n",
    "    if isinstance(df_items.schema[coluna].dataType, TimestampType):\n",
    "        continue\n",
    "    print('Coluna:', coluna, '| Quantidade:', df_items.filter(df_items[coluna] < 0).count())"
   ]
  },
  {
   "cell_type": "markdown",
   "id": "a18eef03-d10f-49b0-a2cf-2fae27e5a671",
   "metadata": {},
   "source": [
    "Tipos de dados: o conjunto de dados inclui vários tipos de dados adequados para os dados que representam:\r\n",
    "\r\n",
    "order_id, product_id e seller_id são do tipo object, que normalmente indica identificadores de string.\r\n",
    "order_item_id é um int64, provavelmente representando um identificador numérico ou uma contagem.\r\n",
    "shipping_limit_date é um objeto que deve estar no formato datetime porque representa a hora.\r\n",
    "price e frete_value são float64, apropriados para representar valores monetários.\r\n",
    "Sem valores ausentes ou negativos: não há valores nulos ou negativos em todas as colunas.\r\n",
    "\r\n",
    "Valores Zero: A coluna frete_valor possui uma pequena porcentagem de valores zero (0,34%). Valores zero na coluna frete_valor podem sugerir frete grátis.\r\n",
    "\r\n",
    "Duplicatas: nenhuma linha duplicada é relatada neste subconjunto do conjunto de dados."
   ]
  },
  {
   "cell_type": "markdown",
   "id": "9f85b9a4-3e1e-4b21-a26a-5c882896a384",
   "metadata": {},
   "source": [
    "## Dataset 'payments'\n",
    "Pagamentos : Esta tabela contém informações sobre os pagamentos feitos para pedidos em e-commerce. Cada linha representa uma transação de pagamento única, detalhando como os clientes pagaram por seus pedidos."
   ]
  },
  {
   "cell_type": "markdown",
   "id": "88ca52a5-f761-4634-b080-676175b7f497",
   "metadata": {},
   "source": [
    "### Descrição das variáveis\n",
    "![Clientes](img/dicionario/pagamentos.png)"
   ]
  },
  {
   "cell_type": "markdown",
   "id": "08291692-590c-422d-9c02-61f40775abef",
   "metadata": {},
   "source": [
    "### Limpeza e tratamento dos dados"
   ]
  },
  {
   "cell_type": "code",
   "execution_count": 28,
   "id": "9714c4da-6edf-4e47-9bb7-bc5b834c1aab",
   "metadata": {},
   "outputs": [
    {
     "name": "stdout",
     "output_type": "stream",
     "text": [
      "linhas:  103886\n",
      "colunas:  5\n"
     ]
    }
   ],
   "source": [
    "print('linhas: ', df_payments.count())\n",
    "print('colunas: ', len(df_payments.columns))"
   ]
  },
  {
   "cell_type": "code",
   "execution_count": 29,
   "id": "16c3d6eb-2a99-4f3f-a768-66174d8e9a12",
   "metadata": {},
   "outputs": [
    {
     "name": "stdout",
     "output_type": "stream",
     "text": [
      "+-------+--------------------+------------------+------------+--------------------+------------------+\n",
      "|summary|            order_id|payment_sequential|payment_type|payment_installments|     payment_value|\n",
      "+-------+--------------------+------------------+------------+--------------------+------------------+\n",
      "|  count|              103886|            103886|      103886|              103886|            103886|\n",
      "|   mean|                NULL|1.0926785129853878|        NULL|   2.853348863176944|154.10038041698792|\n",
      "| stddev|                NULL|0.7065837791949958|        NULL|   2.687050673856492|  217.494063864724|\n",
      "|    min|00010242fe8c5a6d1...|                 1|      boleto|                   0|               0.0|\n",
      "|    max|fffe41c64501cc87c...|                29|     voucher|                  24|          13664.08|\n",
      "+-------+--------------------+------------------+------------+--------------------+------------------+\n",
      "\n"
     ]
    }
   ],
   "source": [
    "df_payments.describe().show(10)"
   ]
  },
  {
   "cell_type": "code",
   "execution_count": 30,
   "id": "f34a7338-985d-4d5a-9756-f923bd7a474e",
   "metadata": {},
   "outputs": [
    {
     "name": "stdout",
     "output_type": "stream",
     "text": [
      "+--------------------+------------------+------------+--------------------+-------------+\n",
      "|            order_id|payment_sequential|payment_type|payment_installments|payment_value|\n",
      "+--------------------+------------------+------------+--------------------+-------------+\n",
      "|b81ef226f3fe1789b...|                 1| credit_card|                   8|        99.33|\n",
      "|a9810da82917af2d9...|                 1| credit_card|                   1|        24.39|\n",
      "|25e8ea4e93396b6fa...|                 1| credit_card|                   1|        65.71|\n",
      "|ba78997921bbcdc13...|                 1| credit_card|                   8|       107.78|\n",
      "|42fdf880ba16b47b5...|                 1| credit_card|                   2|       128.45|\n",
      "|298fcdf1f73eb413e...|                 1| credit_card|                   2|        96.12|\n",
      "|771ee386b001f0620...|                 1| credit_card|                   1|        81.16|\n",
      "|3d7239c394a212faa...|                 1| credit_card|                   3|        51.84|\n",
      "|1f78449c87a54faf9...|                 1| credit_card|                   6|       341.09|\n",
      "|0573b5e23cbd79800...|                 1|      boleto|                   1|        51.95|\n",
      "+--------------------+------------------+------------+--------------------+-------------+\n",
      "only showing top 10 rows\n",
      "\n"
     ]
    }
   ],
   "source": [
    "df_payments.show(10)"
   ]
  },
  {
   "cell_type": "code",
   "execution_count": 31,
   "id": "91c0fc2d-185b-43c3-b2ea-d9c8d616b4e8",
   "metadata": {},
   "outputs": [
    {
     "name": "stdout",
     "output_type": "stream",
     "text": [
      "root\n",
      " |-- order_id: string (nullable = true)\n",
      " |-- payment_sequential: integer (nullable = true)\n",
      " |-- payment_type: string (nullable = true)\n",
      " |-- payment_installments: integer (nullable = true)\n",
      " |-- payment_value: double (nullable = true)\n",
      "\n"
     ]
    }
   ],
   "source": [
    "df_payments.printSchema()"
   ]
  },
  {
   "cell_type": "code",
   "execution_count": 32,
   "id": "a42b1152-c477-449a-82ee-7fbc425f186c",
   "metadata": {},
   "outputs": [
    {
     "name": "stdout",
     "output_type": "stream",
     "text": [
      "Contagem de valores nulos:\n",
      "Coluna: order_id | Quantidade: 0\n",
      "Coluna: payment_sequential | Quantidade: 0\n",
      "Coluna: payment_type | Quantidade: 0\n",
      "Coluna: payment_installments | Quantidade: 0\n",
      "Coluna: payment_value | Quantidade: 0\n",
      "\n",
      "\n",
      "Contagem de valores zerados:\n",
      "Coluna: order_id | Quantidade: 0\n",
      "Coluna: payment_sequential | Quantidade: 0\n",
      "Coluna: payment_type | Quantidade: 0\n",
      "Coluna: payment_installments | Quantidade: 2\n",
      "Coluna: payment_value | Quantidade: 9\n",
      "\n",
      "\n",
      "Contagem de valores negativos:\n",
      "Coluna: order_id | Quantidade: 0\n",
      "Coluna: payment_sequential | Quantidade: 0\n",
      "Coluna: payment_type | Quantidade: 0\n",
      "Coluna: payment_installments | Quantidade: 0\n",
      "Coluna: payment_value | Quantidade: 0\n"
     ]
    }
   ],
   "source": [
    "print(f'Contagem de valores nulos:')\n",
    "for coluna in df_payments.columns:\n",
    "    print('Coluna:', coluna, '| Quantidade:', df_payments.filter(df_payments[coluna].isNull()).count())\n",
    "\n",
    "print('\\n')\n",
    "\n",
    "print(f'Contagem de valores zerados:')\n",
    "for coluna in df_payments.columns:\n",
    "    print('Coluna:', coluna, '| Quantidade:', df_payments.filter(df_payments[coluna] == 0).count())\n",
    "\n",
    "print('\\n')\n",
    "\n",
    "print(f'Contagem de valores negativos:')\n",
    "for coluna in df_payments.columns:\n",
    "    print('Coluna:', coluna, '| Quantidade:', df_payments.filter(df_payments[coluna] < 0).count())"
   ]
  },
  {
   "cell_type": "markdown",
   "id": "b7190a1c-5b13-41ef-9337-a8a799532e84",
   "metadata": {},
   "source": [
    "### Verificar se o número de parcelas de pagamento é igual a 0"
   ]
  },
  {
   "cell_type": "code",
   "execution_count": 33,
   "id": "1ca32892-da98-46d1-abdd-cd382f3c3b44",
   "metadata": {},
   "outputs": [
    {
     "name": "stdout",
     "output_type": "stream",
     "text": [
      "+--------+------------------+------------+--------------------+-------------+\n",
      "|order_id|payment_sequential|payment_type|payment_installments|payment_value|\n",
      "+--------+------------------+------------+--------------------+-------------+\n",
      "+--------+------------------+------------+--------------------+-------------+\n",
      "\n"
     ]
    }
   ],
   "source": [
    "# Filtrar os registros onde 'payment_value' é igual a 0 e 'payment_type' é igual a 'not_defined'\n",
    "notdefined_0 = df_payments.filter((col(\"payment_value\") == 0) & (col(\"payment_type\") == \"not_defined\"))\n",
    "df_payments = df_payments.join(notdefined_0, how='left_anti')\n",
    "df_payments.show()"
   ]
  },
  {
   "cell_type": "markdown",
   "id": "b8481ebb-7867-4901-b3b8-b1aa665cf31b",
   "metadata": {},
   "source": [
    "## Dataset 'reviews'\n",
    "Reviews : Esta tabela contém informações sobre as avaliações deixadas pelos clientes para os pedidos que fizeram em uma plataforma de e-commerce. Cada linha representa um feedback do cliente sobre seus pedidos.\n",
    "### Descrição das variáveis\n",
    "![Avaliacoes](img/dicionario/avaliacoes.png)"
   ]
  },
  {
   "cell_type": "markdown",
   "id": "2cfad0bb-f3d2-419e-8572-4146000e41f8",
   "metadata": {},
   "source": [
    "### Limpeza e tratamento dos dados"
   ]
  },
  {
   "cell_type": "code",
   "execution_count": 34,
   "id": "4d313863-6000-45df-b849-d052f5cb8815",
   "metadata": {},
   "outputs": [
    {
     "name": "stdout",
     "output_type": "stream",
     "text": [
      "linhas:  104162\n",
      "colunas:  7\n"
     ]
    }
   ],
   "source": [
    "print('linhas: ', df_reviews.count())\n",
    "print('colunas: ', len(df_reviews.columns))"
   ]
  },
  {
   "cell_type": "code",
   "execution_count": 35,
   "id": "fd7fcae8-1a96-4e1f-98ca-f96d83952315",
   "metadata": {},
   "outputs": [
    {
     "name": "stdout",
     "output_type": "stream",
     "text": [
      "+-------+------------------+--------------------+--------------------+--------------------+----------------------+--------------------+-----------------------+\n",
      "|summary|         review_id|            order_id|        review_score|review_comment_title|review_comment_message|review_creation_date|review_answer_timestamp|\n",
      "+-------+------------------+--------------------+--------------------+--------------------+----------------------+--------------------+-----------------------+\n",
      "|  count|             84300|               82507|               82383|                9771|                 33264|               77186|                  77166|\n",
      "|   mean|               4.5|                 0.0|   4.085132880021918|4.017178548731727E10|     8.333333333333334|                NULL|                   NULL|\n",
      "| stddev|0.7071067811865476|                 0.0|  1.3828056742856079|6.337235641972761E11|     2.921186973360886|                NULL|                   NULL|\n",
      "|    min|                 \"|                    |                   \"|                    |                      | FOI A MINHA PRIM...|    POIS NÃO CUMPREM...|\n",
      "|    max|     🤙🏼👏🏼👏🏼\"|visando sempre o ...|seria mais coeren...|                 🔟 |  😡😡😡😡😡👎👎👎👎👎|veio bem embalada...|              70 + R$15|\n",
      "+-------+------------------+--------------------+--------------------+--------------------+----------------------+--------------------+-----------------------+\n",
      "\n"
     ]
    }
   ],
   "source": [
    "df_reviews.describe().show(10)"
   ]
  },
  {
   "cell_type": "code",
   "execution_count": 36,
   "id": "c94a5c8c-bf97-4e92-85c0-f22fd7df7d6d",
   "metadata": {},
   "outputs": [
    {
     "name": "stdout",
     "output_type": "stream",
     "text": [
      "+--------------------+--------------------+------------+--------------------+----------------------+--------------------+-----------------------+\n",
      "|           review_id|            order_id|review_score|review_comment_title|review_comment_message|review_creation_date|review_answer_timestamp|\n",
      "+--------------------+--------------------+------------+--------------------+----------------------+--------------------+-----------------------+\n",
      "|7bc2406110b926393...|73fc7af87114b3971...|           4|                NULL|                  NULL| 2018-01-18 00:00:00|    2018-01-18 21:46:59|\n",
      "|80e641a11e56f04c1...|a548910a1c6147796...|           5|                NULL|                  NULL| 2018-03-10 00:00:00|    2018-03-11 03:05:13|\n",
      "|228ce5500dc1d8e02...|f9e4b658b201a9f2e...|           5|                NULL|                  NULL| 2018-02-17 00:00:00|    2018-02-18 14:36:24|\n",
      "|e64fb393e7b32834b...|658677c97b385a9be...|           5|                NULL|  Recebi bem antes ...| 2017-04-21 00:00:00|    2017-04-21 22:02:06|\n",
      "|f7c4243c7fe1938f1...|8e6bfb81e283fa7e4...|           5|                NULL|  Parabéns lojas la...| 2018-03-01 00:00:00|    2018-03-02 10:26:53|\n",
      "|15197aa66ff4d0650...|b18dcdf73be663668...|           1|                NULL|                  NULL| 2018-04-13 00:00:00|    2018-04-16 00:39:37|\n",
      "|07f9bee5d1b850860...|e48aa0d2dcec3a2e8...|           5|                NULL|                  NULL| 2017-07-16 00:00:00|    2017-07-18 19:30:34|\n",
      "|7c6400515c67679fb...|c31a859e34e3adac2...|           5|                NULL|                  NULL| 2018-08-14 00:00:00|    2018-08-14 21:36:06|\n",
      "|a3f6f7f6f433de0ae...|9c214ac970e842735...|           5|                NULL|                  NULL| 2017-05-17 00:00:00|    2017-05-18 12:05:37|\n",
      "|8670d52e15e00043a...|b9bf720beb4ab3728...|           4|           recomendo|  aparelho eficient...| 2018-05-22 00:00:00|    2018-05-23 16:45:47|\n",
      "+--------------------+--------------------+------------+--------------------+----------------------+--------------------+-----------------------+\n",
      "only showing top 10 rows\n",
      "\n"
     ]
    }
   ],
   "source": [
    "df_reviews.show(10)"
   ]
  },
  {
   "cell_type": "code",
   "execution_count": 37,
   "id": "21ec85ce-48d6-4db2-83da-6354cf6775d8",
   "metadata": {},
   "outputs": [
    {
     "name": "stdout",
     "output_type": "stream",
     "text": [
      "root\n",
      " |-- review_id: string (nullable = true)\n",
      " |-- order_id: string (nullable = true)\n",
      " |-- review_score: string (nullable = true)\n",
      " |-- review_comment_title: string (nullable = true)\n",
      " |-- review_comment_message: string (nullable = true)\n",
      " |-- review_creation_date: string (nullable = true)\n",
      " |-- review_answer_timestamp: string (nullable = true)\n",
      "\n"
     ]
    }
   ],
   "source": [
    "df_reviews.printSchema()"
   ]
  },
  {
   "cell_type": "code",
   "execution_count": 38,
   "id": "2cb3027e-36ca-496f-bec5-8e1eff421bdd",
   "metadata": {},
   "outputs": [
    {
     "name": "stdout",
     "output_type": "stream",
     "text": [
      "Contagem de valores nulos:\n",
      "Coluna: review_id | Quantidade: 1\n",
      "Coluna: order_id | Quantidade: 2236\n",
      "Coluna: review_score | Quantidade: 2380\n",
      "Coluna: review_comment_title | Quantidade: 92157\n",
      "Coluna: review_comment_message | Quantidade: 63079\n",
      "Coluna: review_creation_date | Quantidade: 8764\n",
      "Coluna: review_answer_timestamp | Quantidade: 8785\n",
      "\n",
      "\n",
      "Contagem de valores zerados:\n",
      "Coluna: review_id | Quantidade: 2\n",
      "Coluna: order_id | Quantidade: 3\n",
      "Coluna: review_score | Quantidade: 2\n",
      "Coluna: review_comment_title | Quantidade: 23\n",
      "Coluna: review_comment_message | Quantidade: 53\n",
      "Coluna: review_creation_date | Quantidade: 0\n",
      "Coluna: review_answer_timestamp | Quantidade: 0\n",
      "\n",
      "\n",
      "Contagem de valores negativos:\n",
      "Coluna: review_id | Quantidade: 0\n",
      "Coluna: order_id | Quantidade: 0\n",
      "Coluna: review_score | Quantidade: 0\n",
      "Coluna: review_comment_title | Quantidade: 0\n",
      "Coluna: review_comment_message | Quantidade: 0\n",
      "Coluna: review_creation_date | Quantidade: 0\n",
      "Coluna: review_answer_timestamp | Quantidade: 0\n"
     ]
    }
   ],
   "source": [
    "print(f'Contagem de valores nulos:')\n",
    "for coluna in df_reviews.columns:\n",
    "    print('Coluna:', coluna, '| Quantidade:', df_reviews.filter(df_reviews[coluna].isNull()).count())\n",
    "\n",
    "print('\\n')\n",
    "\n",
    "print(f'Contagem de valores zerados:')\n",
    "for coluna in df_reviews.columns:\n",
    "    print('Coluna:', coluna, '| Quantidade:', df_reviews.filter(df_reviews[coluna] == 0).count())\n",
    "\n",
    "print('\\n')\n",
    "\n",
    "print(f'Contagem de valores negativos:')\n",
    "for coluna in df_reviews.columns:\n",
    "    print('Coluna:', coluna, '| Quantidade:', df_reviews.filter(df_reviews[coluna] < 0).count())"
   ]
  },
  {
   "cell_type": "code",
   "execution_count": 39,
   "id": "4e3ef2d6-b4f4-43e8-b0aa-6f9e24196208",
   "metadata": {},
   "outputs": [],
   "source": [
    "df_reviews = df_reviews.dropna()"
   ]
  },
  {
   "cell_type": "markdown",
   "id": "ae94a16c-4e60-4a75-877c-d062703e57b5",
   "metadata": {},
   "source": [
    "Tipos de dados: o conjunto de dados contém várias colunas com tipos de dados de objetos que são típicos para dados de string, como IDs e texto, e int64 para valores numéricos como review_score. review_creation_date e review_answer_timestamp são objetos, que devem estar no formato data e hora porque representam a hora.\r\n",
    "\r\n",
    "Valor ausente: as colunas review_comment_title e review_comment_message possuem uma porcentagem significativa de valores nulos, 88% e 58% respectivamente. Isso pode indicar que muitos clientes não deixam um título ou mensagem com sua avaliação, o que é comum em conjuntos de dados de avaliação. Eliminaremos esta coluna porque o número de valores ausentes é superior a 50%.\r\n",
    "\r\n",
    "Sem valores negativos ou zero: não há valores negativos ou zero em colunas numéricas.\r\n",
    "\r\n",
    "Duplicatas: não há linhas duplicadas no conjunto de dados, o que indica que cada linha representa uma revisão exclusiva."
   ]
  },
  {
   "cell_type": "markdown",
   "id": "7470d6bb-323a-4c3d-8f74-8932cdca398b",
   "metadata": {},
   "source": [
    "## Dataset 'orders'\n",
    "Pedidos : Esta tabela contém informações sobre os pedidos feitos pelos clientes em plataformas de e-commerce. Cada linha representa um pedido único feito pelos clientes.\n",
    "### Descrição das variáveis\n",
    "![Pedidos](img/dicionario/pedidos.png)"
   ]
  },
  {
   "cell_type": "markdown",
   "id": "ee4d814c-53ee-448c-91c6-09581f53646b",
   "metadata": {},
   "source": [
    "### Limpeza e tratamento dos dados"
   ]
  },
  {
   "cell_type": "code",
   "execution_count": 40,
   "id": "e12938a1-7c11-44cf-938c-2f54f557b50b",
   "metadata": {},
   "outputs": [
    {
     "name": "stdout",
     "output_type": "stream",
     "text": [
      "linhas:  99441\n",
      "colunas:  8\n"
     ]
    }
   ],
   "source": [
    "print('linhas: ', df_orders.count())\n",
    "print('colunas: ', len(df_orders.columns))"
   ]
  },
  {
   "cell_type": "code",
   "execution_count": 41,
   "id": "d89e9d1f-c8ac-4655-a3be-3875413aec95",
   "metadata": {},
   "outputs": [
    {
     "name": "stdout",
     "output_type": "stream",
     "text": [
      "+-------+--------------------+--------------------+------------+\n",
      "|summary|            order_id|         customer_id|order_status|\n",
      "+-------+--------------------+--------------------+------------+\n",
      "|  count|               99441|               99441|       99441|\n",
      "|   mean|                NULL|                NULL|        NULL|\n",
      "| stddev|                NULL|                NULL|        NULL|\n",
      "|    min|00010242fe8c5a6d1...|00012a2ce6f8dcda2...|    approved|\n",
      "|    max|fffe41c64501cc87c...|ffffe8b65bbe3087b...| unavailable|\n",
      "+-------+--------------------+--------------------+------------+\n",
      "\n"
     ]
    }
   ],
   "source": [
    "df_orders.describe().show(10)"
   ]
  },
  {
   "cell_type": "code",
   "execution_count": 42,
   "id": "48f4cd33-ec0b-4665-bd67-bb7996885603",
   "metadata": {},
   "outputs": [
    {
     "name": "stdout",
     "output_type": "stream",
     "text": [
      "+--------------------+--------------------+------------+------------------------+-------------------+----------------------------+-----------------------------+-----------------------------+\n",
      "|            order_id|         customer_id|order_status|order_purchase_timestamp|  order_approved_at|order_delivered_carrier_date|order_delivered_customer_date|order_estimated_delivery_date|\n",
      "+--------------------+--------------------+------------+------------------------+-------------------+----------------------------+-----------------------------+-----------------------------+\n",
      "|e481f51cbdc54678b...|9ef432eb625129730...|   delivered|     2017-10-02 10:56:33|2017-10-02 11:07:15|         2017-10-04 19:55:00|          2017-10-10 21:25:13|          2017-10-18 00:00:00|\n",
      "|53cdb2fc8bc7dce0b...|b0830fb4747a6c6d2...|   delivered|     2018-07-24 20:41:37|2018-07-26 03:24:27|         2018-07-26 14:31:00|          2018-08-07 15:27:45|          2018-08-13 00:00:00|\n",
      "|47770eb9100c2d0c4...|41ce2a54c0b03bf34...|   delivered|     2018-08-08 08:38:49|2018-08-08 08:55:23|         2018-08-08 13:50:00|          2018-08-17 18:06:29|          2018-09-04 00:00:00|\n",
      "|949d5b44dbf5de918...|f88197465ea7920ad...|   delivered|     2017-11-18 19:28:06|2017-11-18 19:45:59|         2017-11-22 13:39:59|          2017-12-02 00:28:42|          2017-12-15 00:00:00|\n",
      "|ad21c59c0840e6cb8...|8ab97904e6daea886...|   delivered|     2018-02-13 21:18:39|2018-02-13 22:20:29|         2018-02-14 19:46:34|          2018-02-16 18:17:02|          2018-02-26 00:00:00|\n",
      "|a4591c265e18cb1dc...|503740e9ca751ccdd...|   delivered|     2017-07-09 21:57:05|2017-07-09 22:10:13|         2017-07-11 14:58:04|          2017-07-26 10:57:55|          2017-08-01 00:00:00|\n",
      "|136cce7faa42fdb2c...|ed0271e0b7da060a3...|    invoiced|     2017-04-11 12:22:08|2017-04-13 13:25:17|                        NULL|                         NULL|          2017-05-09 00:00:00|\n",
      "|6514b8ad8028c9f2c...|9bdf08b4b3b52b552...|   delivered|     2017-05-16 13:10:30|2017-05-16 13:22:11|         2017-05-22 10:07:46|          2017-05-26 12:55:51|          2017-06-07 00:00:00|\n",
      "|76c6e866289321a7c...|f54a9f0e6b351c431...|   delivered|     2017-01-23 18:29:09|2017-01-25 02:50:47|         2017-01-26 14:16:31|          2017-02-02 14:08:10|          2017-03-06 00:00:00|\n",
      "|e69bfb5eb88e0ed6a...|31ad1d1b63eb99624...|   delivered|     2017-07-29 11:55:02|2017-07-29 12:05:32|         2017-08-10 19:45:24|          2017-08-16 17:14:30|          2017-08-23 00:00:00|\n",
      "+--------------------+--------------------+------------+------------------------+-------------------+----------------------------+-----------------------------+-----------------------------+\n",
      "only showing top 10 rows\n",
      "\n"
     ]
    }
   ],
   "source": [
    "df_orders.show(10)"
   ]
  },
  {
   "cell_type": "code",
   "execution_count": 43,
   "id": "4cb1456c-8816-4739-9022-7efe0d7c2fe2",
   "metadata": {},
   "outputs": [
    {
     "name": "stdout",
     "output_type": "stream",
     "text": [
      "root\n",
      " |-- order_id: string (nullable = true)\n",
      " |-- customer_id: string (nullable = true)\n",
      " |-- order_status: string (nullable = true)\n",
      " |-- order_purchase_timestamp: timestamp (nullable = true)\n",
      " |-- order_approved_at: timestamp (nullable = true)\n",
      " |-- order_delivered_carrier_date: timestamp (nullable = true)\n",
      " |-- order_delivered_customer_date: timestamp (nullable = true)\n",
      " |-- order_estimated_delivery_date: timestamp (nullable = true)\n",
      "\n"
     ]
    }
   ],
   "source": [
    "df_orders.printSchema()"
   ]
  },
  {
   "cell_type": "code",
   "execution_count": 44,
   "id": "a8866029-e23f-4677-a0c1-4bea318d17d1",
   "metadata": {},
   "outputs": [
    {
     "name": "stdout",
     "output_type": "stream",
     "text": [
      "Contagem de valores nulos:\n",
      "Coluna: order_id | Quantidade: 0\n",
      "Coluna: customer_id | Quantidade: 0\n",
      "Coluna: order_status | Quantidade: 0\n",
      "Coluna: order_purchase_timestamp | Quantidade: 0\n",
      "Coluna: order_approved_at | Quantidade: 160\n",
      "Coluna: order_delivered_carrier_date | Quantidade: 1783\n",
      "Coluna: order_delivered_customer_date | Quantidade: 2965\n",
      "Coluna: order_estimated_delivery_date | Quantidade: 0\n",
      "\n",
      "\n",
      "Contagem de valores zerados:\n",
      "Coluna: order_id | Quantidade: 0\n",
      "Coluna: customer_id | Quantidade: 0\n",
      "Coluna: order_status | Quantidade: 0\n",
      "\n",
      "\n",
      "Contagem de valores negativos:\n",
      "Coluna: order_id | Quantidade: 0\n",
      "Coluna: customer_id | Quantidade: 0\n",
      "Coluna: order_status | Quantidade: 0\n"
     ]
    }
   ],
   "source": [
    "print(f'Contagem de valores nulos:')\n",
    "for coluna in df_orders.columns:\n",
    "    print('Coluna:', coluna, '| Quantidade:', df_orders.filter(df_orders[coluna].isNull()).count())\n",
    "\n",
    "print('\\n')\n",
    "\n",
    "print(f'Contagem de valores zerados:')\n",
    "for coluna in df_orders.columns:\n",
    "    if isinstance(df_orders.schema[coluna].dataType, TimestampType):\n",
    "        continue\n",
    "    print('Coluna:', coluna, '| Quantidade:', df_orders.filter(df_orders[coluna] == 0).count())\n",
    "\n",
    "print('\\n')\n",
    "\n",
    "print(f'Contagem de valores negativos:')\n",
    "for coluna in df_orders.columns:\n",
    "    if isinstance(df_orders.schema[coluna].dataType, TimestampType):\n",
    "        continue\n",
    "    print('Coluna:', coluna, '| Quantidade:', df_orders.filter(df_orders[coluna] < 0).count())"
   ]
  },
  {
   "cell_type": "code",
   "execution_count": 45,
   "id": "fce6e270-aab0-4cac-9d02-5c2d7263de95",
   "metadata": {},
   "outputs": [],
   "source": [
    "# Removendo valores nulos\n",
    "df_orders = df_orders.dropna()\n",
    "\n",
    "# Converter colunas relacionadas a datas para o tipo de dados datetime\n",
    "df_orders = df_orders.withColumn(\"order_purchase_timestamp\", to_timestamp(col(\"order_purchase_timestamp\"), \"yyyy-MM-dd HH:mm:ss\"))\n",
    "df_orders = df_orders.withColumn(\"order_approved_at\", to_timestamp(col(\"order_approved_at\"), \"yyyy-MM-dd HH:mm:ss\"))\n",
    "df_orders = df_orders.withColumn(\"order_delivered_carrier_date\", to_timestamp(col(\"order_delivered_carrier_date\"), \"yyyy-MM-dd HH:mm:ss\"))\n",
    "df_orders = df_orders.withColumn(\"order_delivered_customer_date\", to_timestamp(col(\"order_delivered_customer_date\"), \"yyyy-MM-dd HH:mm:ss\"))\n",
    "df_orders = df_orders.withColumn(\"order_estimated_delivery_date\", to_timestamp(col(\"order_estimated_delivery_date\"), \"yyyy-MM-dd HH:mm:ss\"))\n"
   ]
  },
  {
   "cell_type": "markdown",
   "id": "8fc340e5-12db-41f7-8f7c-9cb87108c4b5",
   "metadata": {},
   "source": [
    "Tipos de dados: todas as colunas possuem o tipo de dados do objeto, possivelmente representando informações de string para order_id, customer_id, order_status. No entanto, para outras colunas, você deve usar o tipo de dados datetime porque representa o tempo.\n",
    "\n",
    "Valor ausente: uma pequena porcentagem (<3%) de valores nulos está presente em order_approved_at, order_delivered_carrier_date e order_delivered_customer_date.\n",
    "\n",
    "Sem valores negativos ou zero: não há valores negativos ou zero em todas as colunas porque todos os tipos de dados são objetos.\n",
    "\n",
    "Duplicatas: não há linhas duplicadas no conjunto de dados, o que indica que cada linha representa uma revisão exclusiva."
   ]
  },
  {
   "cell_type": "markdown",
   "id": "bc26954a-b59c-4436-8558-01cc91933049",
   "metadata": {
    "collapsed": true,
    "jupyter": {
     "outputs_hidden": true
    }
   },
   "source": [
    "## Dataset 'products'\n",
    "Produtos : A tabela contém uma coleção de dados de produtos de plataformas de e-commerce que contém informações sobre vários produtos, como descrições ou tamanhos.\n",
    "### Descrição das variáveis\n",
    "![Produtos](img/dicionario/produtos.png)"
   ]
  },
  {
   "cell_type": "markdown",
   "id": "d1d13a37-fa74-4770-8fa9-3f333b50aa6c",
   "metadata": {},
   "source": [
    "### Limpeza e tratamento dos dados"
   ]
  },
  {
   "cell_type": "code",
   "execution_count": 46,
   "id": "bf10e030-06c2-4082-80d8-b17826ea2a80",
   "metadata": {},
   "outputs": [
    {
     "name": "stdout",
     "output_type": "stream",
     "text": [
      "linhas:  32951\n",
      "colunas:  9\n"
     ]
    }
   ],
   "source": [
    "print('linhas: ', df_products.count())\n",
    "print('colunas: ', len(df_products.columns))"
   ]
  },
  {
   "cell_type": "code",
   "execution_count": 47,
   "id": "c9a7e6cc-117f-4a4e-a6be-fbb9783cf481",
   "metadata": {},
   "outputs": [
    {
     "name": "stdout",
     "output_type": "stream",
     "text": [
      "+-------+--------------------+---------------------+-------------------+--------------------------+------------------+------------------+------------------+------------------+------------------+\n",
      "|summary|          product_id|product_category_name|product_name_lenght|product_description_lenght|product_photos_qty|  product_weight_g| product_length_cm| product_height_cm|  product_width_cm|\n",
      "+-------+--------------------+---------------------+-------------------+--------------------------+------------------+------------------+------------------+------------------+------------------+\n",
      "|  count|               32951|                32341|              32341|                     32341|             32341|             32949|             32949|             32949|             32949|\n",
      "|   mean|                NULL|                 NULL|  48.47694876472589|         771.4952846232337|2.1889861166939797|2276.4724877841513| 30.81507784758263|16.937661234028347|23.196728277034204|\n",
      "| stddev|                NULL|                 NULL| 10.245740725237287|         635.1152246349538|1.7367656379315435| 4282.038730977024|16.914458054065953|13.637554061749569|12.079047453227794|\n",
      "|    min|00066f42aeeb9f300...| agro_industria_e_...|                  5|                         4|                 1|                 0|                 7|                 2|                 6|\n",
      "|    max|fffe9eeff12fcbd74...| utilidades_domest...|                 76|                      3992|                20|             40425|               105|               105|               118|\n",
      "+-------+--------------------+---------------------+-------------------+--------------------------+------------------+------------------+------------------+------------------+------------------+\n",
      "\n"
     ]
    }
   ],
   "source": [
    "df_products.describe().show(10)"
   ]
  },
  {
   "cell_type": "code",
   "execution_count": 48,
   "id": "58dcc445-947a-4849-8265-9e18dfdcbd4f",
   "metadata": {},
   "outputs": [
    {
     "name": "stdout",
     "output_type": "stream",
     "text": [
      "+--------------------+---------------------+-------------------+--------------------------+------------------+----------------+-----------------+-----------------+----------------+\n",
      "|          product_id|product_category_name|product_name_lenght|product_description_lenght|product_photos_qty|product_weight_g|product_length_cm|product_height_cm|product_width_cm|\n",
      "+--------------------+---------------------+-------------------+--------------------------+------------------+----------------+-----------------+-----------------+----------------+\n",
      "|1e9e8ef04dbcff454...|           perfumaria|                 40|                       287|                 1|             225|               16|               10|              14|\n",
      "|3aa071139cb16b67c...|                artes|                 44|                       276|                 1|            1000|               30|               18|              20|\n",
      "|96bd76ec8810374ed...|        esporte_lazer|                 46|                       250|                 1|             154|               18|                9|              15|\n",
      "|cef67bcfe19066a93...|                bebes|                 27|                       261|                 1|             371|               26|                4|              26|\n",
      "|9dc1a7de274444849...| utilidades_domest...|                 37|                       402|                 4|             625|               20|               17|              13|\n",
      "|41d3672d4792049fa...| instrumentos_musi...|                 60|                       745|                 1|             200|               38|                5|              11|\n",
      "|732bd381ad09e530f...|           cool_stuff|                 56|                      1272|                 4|           18350|               70|               24|              44|\n",
      "|2548af3e6e77a690c...|     moveis_decoracao|                 56|                       184|                 2|             900|               40|                8|              40|\n",
      "|37cc742be07708b53...|     eletrodomesticos|                 57|                       163|                 1|             400|               27|               13|              17|\n",
      "|8c92109888e8cdf9d...|           brinquedos|                 36|                      1156|                 1|             600|               17|               10|              12|\n",
      "+--------------------+---------------------+-------------------+--------------------------+------------------+----------------+-----------------+-----------------+----------------+\n",
      "only showing top 10 rows\n",
      "\n"
     ]
    }
   ],
   "source": [
    "df_products.show(10)"
   ]
  },
  {
   "cell_type": "code",
   "execution_count": 49,
   "id": "34252394-9b8a-493c-bf80-fa3d41495767",
   "metadata": {},
   "outputs": [
    {
     "name": "stdout",
     "output_type": "stream",
     "text": [
      "root\n",
      " |-- product_id: string (nullable = true)\n",
      " |-- product_category_name: string (nullable = true)\n",
      " |-- product_name_lenght: integer (nullable = true)\n",
      " |-- product_description_lenght: integer (nullable = true)\n",
      " |-- product_photos_qty: integer (nullable = true)\n",
      " |-- product_weight_g: integer (nullable = true)\n",
      " |-- product_length_cm: integer (nullable = true)\n",
      " |-- product_height_cm: integer (nullable = true)\n",
      " |-- product_width_cm: integer (nullable = true)\n",
      "\n"
     ]
    }
   ],
   "source": [
    "df_products.printSchema()"
   ]
  },
  {
   "cell_type": "code",
   "execution_count": 50,
   "id": "66bed9f0-3d70-4410-b0f5-d787b925e9e2",
   "metadata": {},
   "outputs": [
    {
     "name": "stdout",
     "output_type": "stream",
     "text": [
      "Contagem de valores nulos:\n",
      "Coluna: product_id | Quantidade: 0\n",
      "Coluna: product_category_name | Quantidade: 610\n",
      "Coluna: product_name_lenght | Quantidade: 610\n",
      "Coluna: product_description_lenght | Quantidade: 610\n",
      "Coluna: product_photos_qty | Quantidade: 610\n",
      "Coluna: product_weight_g | Quantidade: 2\n",
      "Coluna: product_length_cm | Quantidade: 2\n",
      "Coluna: product_height_cm | Quantidade: 2\n",
      "Coluna: product_width_cm | Quantidade: 2\n",
      "\n",
      "\n",
      "Contagem de valores zerados:\n",
      "Coluna: product_id | Quantidade: 0\n",
      "Coluna: product_category_name | Quantidade: 0\n",
      "Coluna: product_name_lenght | Quantidade: 0\n",
      "Coluna: product_description_lenght | Quantidade: 0\n",
      "Coluna: product_photos_qty | Quantidade: 0\n",
      "Coluna: product_weight_g | Quantidade: 4\n",
      "Coluna: product_length_cm | Quantidade: 0\n",
      "Coluna: product_height_cm | Quantidade: 0\n",
      "Coluna: product_width_cm | Quantidade: 0\n",
      "\n",
      "\n",
      "Contagem de valores negativos:\n",
      "Coluna: product_id | Quantidade: 0\n",
      "Coluna: product_category_name | Quantidade: 0\n",
      "Coluna: product_name_lenght | Quantidade: 0\n",
      "Coluna: product_description_lenght | Quantidade: 0\n",
      "Coluna: product_photos_qty | Quantidade: 0\n",
      "Coluna: product_weight_g | Quantidade: 0\n",
      "Coluna: product_length_cm | Quantidade: 0\n",
      "Coluna: product_height_cm | Quantidade: 0\n",
      "Coluna: product_width_cm | Quantidade: 0\n"
     ]
    }
   ],
   "source": [
    "print(f'Contagem de valores nulos:')\n",
    "for coluna in df_products.columns:\n",
    "    print('Coluna:', coluna, '| Quantidade:', df_products.filter(df_products[coluna].isNull()).count())\n",
    "\n",
    "print('\\n')\n",
    "\n",
    "print(f'Contagem de valores zerados:')\n",
    "for coluna in df_products.columns:\n",
    "    if isinstance(df_products.schema[coluna].dataType, TimestampType):\n",
    "        continue\n",
    "    print('Coluna:', coluna, '| Quantidade:', df_products.filter(df_products[coluna] == 0).count())\n",
    "\n",
    "print('\\n')\n",
    "\n",
    "print(f'Contagem de valores negativos:')\n",
    "for coluna in df_products.columns:\n",
    "    if isinstance(df_products.schema[coluna].dataType, TimestampType):\n",
    "        continue\n",
    "    print('Coluna:', coluna, '| Quantidade:', df_products.filter(df_products[coluna] < 0).count())"
   ]
  },
  {
   "cell_type": "code",
   "execution_count": 51,
   "id": "1dd9e5f4-dc9a-4b76-9e04-d8247c9a3726",
   "metadata": {},
   "outputs": [],
   "source": [
    "df_products = df_products.dropna()"
   ]
  },
  {
   "cell_type": "markdown",
   "id": "ee1f30b7-5935-4ec6-bb65-18abddd37635",
   "metadata": {},
   "source": [
    "Tipos de dados: Os dados consistem em dois tipos de dados principais, que são object e float64.\r\n",
    "\r\n",
    "Valor ausente: a tabela mostra que a maioria das colunas tem uma baixa porcentagem de valores ausentes (null_value <2%). Isso sugere que os dados estão quase completos.\r\n",
    "\r\n",
    "Sem Negativo: Não há colunas com porcentagem de valores negativos. Isso indica que todos os valores nessas colunas não são negativos.\r\n",
    "\r\n",
    "Valores Zero: Apenas uma coluna possui uma porcentagem baixa de valores zero (0_value <1%). Isto sugere que os dados nesta coluna específica raramente contêm valores zero.\r\n",
    "\r\n",
    "Duplicatas: não há linhas duplicadas neste conjunto de dados.\r\n",
    "\r\n",
    "Número de valores exclusivos (n_unique): a coluna product_id possui 32.951 valores exclusivos, enquanto a coluna product_category_name possui 73 valores exclusivos. Isso indica uma variação significativa nas categorias de produtos."
   ]
  },
  {
   "cell_type": "markdown",
   "id": "19d1bf06-9078-4e8d-b4f0-a598fb80379f",
   "metadata": {},
   "source": [
    "## Dataset 'sellers'\n",
    "Vendedores : Esta tabela contém informações sobre vendedores registrados na plataforma de e-commerce. Cada linha fornece detalhes sobre um único vendedor.\n",
    "### Descrição das variáveis\n",
    "![Vendedores](img/dicionario/vendedor.png)"
   ]
  },
  {
   "cell_type": "markdown",
   "id": "12c5f706-e1a5-4ba6-9ebf-8919d469b846",
   "metadata": {},
   "source": [
    "### Limpeza e tratamento dos dados"
   ]
  },
  {
   "cell_type": "code",
   "execution_count": 52,
   "id": "a0e17ae8-f04d-466d-aca5-a05317d38930",
   "metadata": {},
   "outputs": [
    {
     "name": "stdout",
     "output_type": "stream",
     "text": [
      "linhas:  3095\n",
      "colunas:  4\n"
     ]
    }
   ],
   "source": [
    "print('linhas: ', df_sellers.count())\n",
    "print('colunas: ', len(df_sellers.columns))"
   ]
  },
  {
   "cell_type": "code",
   "execution_count": 53,
   "id": "75f1bd0c-7997-4d80-9ae6-2f24e73487a1",
   "metadata": {},
   "outputs": [
    {
     "name": "stdout",
     "output_type": "stream",
     "text": [
      "+-------+--------------------+----------------------+-----------+------------+\n",
      "|summary|           seller_id|seller_zip_code_prefix|seller_city|seller_state|\n",
      "+-------+--------------------+----------------------+-----------+------------+\n",
      "|  count|                3095|                  3095|       3095|        3095|\n",
      "|   mean|                NULL|    32291.059450726978|  4482255.0|        NULL|\n",
      "| stddev|                NULL|     32713.45382950901|       NULL|        NULL|\n",
      "|    min|0015a82c2db000af6...|                  1001|   04482255|          AC|\n",
      "|    max|ffff564a4f9085cd2...|                 99730|      xaxim|          SP|\n",
      "+-------+--------------------+----------------------+-----------+------------+\n",
      "\n"
     ]
    }
   ],
   "source": [
    "df_sellers.describe().show(10)"
   ]
  },
  {
   "cell_type": "code",
   "execution_count": 54,
   "id": "82e6f602-079a-4a26-90fe-2d1d6e8dbf3a",
   "metadata": {},
   "outputs": [
    {
     "name": "stdout",
     "output_type": "stream",
     "text": [
      "+--------------------+----------------------+-----------------+------------+\n",
      "|           seller_id|seller_zip_code_prefix|      seller_city|seller_state|\n",
      "+--------------------+----------------------+-----------------+------------+\n",
      "|3442f8959a84dea7e...|                 13023|         campinas|          SP|\n",
      "|d1b65fc7debc3361e...|                 13844|       mogi guacu|          SP|\n",
      "|ce3ad9de960102d06...|                 20031|   rio de janeiro|          RJ|\n",
      "|c0f3eea2e14555b6f...|                  4195|        sao paulo|          SP|\n",
      "|51a04a8a6bdcb23de...|                 12914|braganca paulista|          SP|\n",
      "|c240c4061717ac180...|                 20920|   rio de janeiro|          RJ|\n",
      "|e49c26c3edfa46d22...|                 55325|           brejao|          PE|\n",
      "|1b938a7ec6ac5061a...|                 16304|        penapolis|          SP|\n",
      "|768a86e36ad6aae3d...|                  1529|        sao paulo|          SP|\n",
      "|ccc4bbb5f32a6ab2b...|                 80310|         curitiba|          PR|\n",
      "+--------------------+----------------------+-----------------+------------+\n",
      "only showing top 10 rows\n",
      "\n"
     ]
    }
   ],
   "source": [
    "df_sellers.show(10)"
   ]
  },
  {
   "cell_type": "code",
   "execution_count": 55,
   "id": "e02156e8-9be9-475a-b953-77006222e14b",
   "metadata": {},
   "outputs": [
    {
     "name": "stdout",
     "output_type": "stream",
     "text": [
      "root\n",
      " |-- seller_id: string (nullable = true)\n",
      " |-- seller_zip_code_prefix: integer (nullable = true)\n",
      " |-- seller_city: string (nullable = true)\n",
      " |-- seller_state: string (nullable = true)\n",
      "\n"
     ]
    }
   ],
   "source": [
    "df_sellers.printSchema()"
   ]
  },
  {
   "cell_type": "code",
   "execution_count": 56,
   "id": "94963c02-4118-4ccb-9f31-2551485d693c",
   "metadata": {},
   "outputs": [
    {
     "name": "stdout",
     "output_type": "stream",
     "text": [
      "Contagem de valores nulos:\n",
      "Coluna: seller_id | Quantidade: 0\n",
      "Coluna: seller_zip_code_prefix | Quantidade: 0\n",
      "Coluna: seller_city | Quantidade: 0\n",
      "Coluna: seller_state | Quantidade: 0\n",
      "\n",
      "\n",
      "Contagem de valores zerados:\n",
      "Coluna: seller_id | Quantidade: 0\n",
      "Coluna: seller_zip_code_prefix | Quantidade: 0\n",
      "Coluna: seller_city | Quantidade: 0\n",
      "Coluna: seller_state | Quantidade: 0\n",
      "\n",
      "\n",
      "Contagem de valores negativos:\n",
      "Coluna: seller_id | Quantidade: 0\n",
      "Coluna: seller_zip_code_prefix | Quantidade: 0\n",
      "Coluna: seller_city | Quantidade: 0\n",
      "Coluna: seller_state | Quantidade: 0\n"
     ]
    }
   ],
   "source": [
    "print(f'Contagem de valores nulos:')\n",
    "for coluna in df_sellers.columns:\n",
    "    print('Coluna:', coluna, '| Quantidade:', df_sellers.filter(df_sellers[coluna].isNull()).count())\n",
    "\n",
    "print('\\n')\n",
    "\n",
    "print(f'Contagem de valores zerados:')\n",
    "for coluna in df_sellers.columns:\n",
    "    if isinstance(df_sellers.schema[coluna].dataType, TimestampType):\n",
    "        continue\n",
    "    print('Coluna:', coluna, '| Quantidade:', df_sellers.filter(df_sellers[coluna] == 0).count())\n",
    "\n",
    "print('\\n')\n",
    "\n",
    "print(f'Contagem de valores negativos:')\n",
    "for coluna in df_sellers.columns:\n",
    "    if isinstance(df_sellers.schema[coluna].dataType, TimestampType):\n",
    "        continue\n",
    "    print('Coluna:', coluna, '| Quantidade:', df_sellers.filter(df_sellers[coluna] < 0).count())"
   ]
  },
  {
   "cell_type": "markdown",
   "id": "eca43ca5-640d-4162-aa18-77c1b2916f13",
   "metadata": {},
   "source": [
    "Valores ausentes: o conjunto de dados contém valores ausentes, mas eles são relativamente pequenos, representando menos de 2% do conjunto total de dados. Como resultado, uma abordagem para lidar com esses valores ausentes é simplesmente eliminar as linhas com valores ausentes.\n",
    "\n",
    "Valores negativos: não há valores negativos presentes no conjunto de dados, o que é um sinal positivo, pois valores negativos em características como preço ou pagamento indicariam erros ou anomalias nos dados.\n",
    "\n",
    "Valores Zero: O recurso frete_valor e pagamento_valor têm valores zero de 0,3% e 0,003%, respectivamente. Estas ocorrências podem ser consideradas normais, pois alguns pedidos podem incluir frete grátis ou pagamentos por utilização de vouchers ou promoções específicas.\n",
    "\n",
    "Valores duplicados: não há valores duplicados no conjunto de dados. Cada registro é único, o que sugere que não há entradas idênticas ou repetições de dados no conjunto de dados.\n",
    "\n",
    "Informações duplicadas: Existem duas colunas, nomeadamente product_category_name e product_category_name_english, contendo informações semelhantes sobre categorias de produtos. Podemos optar por utilizar um deles, pois fornecem informações redundantes."
   ]
  },
  {
   "cell_type": "markdown",
   "id": "4e0539b1-ba66-4813-87e1-702ec4bddea4",
   "metadata": {},
   "source": [
    "## Dataset 'names'\n",
    "Categorias : A tabela contém um conjunto de dados de tradução de nomes de categorias de produtos, usado para traduzir os nomes das categorias de produtos do português para o inglês.\n",
    "### Analisando dados de Categorias\n",
    "![Categorias](img/dicionario/categoria.png)"
   ]
  },
  {
   "cell_type": "markdown",
   "id": "75a27ac0-5efc-4302-8414-52dc97fec6c7",
   "metadata": {},
   "source": [
    "### Limpeza e tratamento dos dados"
   ]
  },
  {
   "cell_type": "code",
   "execution_count": 57,
   "id": "731addfe-63cd-46f9-b6a5-1842ca4199ed",
   "metadata": {},
   "outputs": [
    {
     "name": "stdout",
     "output_type": "stream",
     "text": [
      "linhas:  3095\n",
      "colunas:  4\n"
     ]
    }
   ],
   "source": [
    "print('linhas: ', df_sellers.count())\n",
    "print('colunas: ', len(df_sellers.columns))"
   ]
  },
  {
   "cell_type": "code",
   "execution_count": 58,
   "id": "0b686324-d5ee-4750-8c04-314e685f6a0d",
   "metadata": {},
   "outputs": [
    {
     "name": "stdout",
     "output_type": "stream",
     "text": [
      "+-------+---------------------+-----------------------------+\n",
      "|summary|product_category_name|product_category_name_english|\n",
      "+-------+---------------------+-----------------------------+\n",
      "|  count|                   71|                           71|\n",
      "|   mean|                 NULL|                         NULL|\n",
      "| stddev|                 NULL|                         NULL|\n",
      "|    min| agro_industria_e_...|         agro_industry_and...|\n",
      "|    max| utilidades_domest...|                watches_gifts|\n",
      "+-------+---------------------+-----------------------------+\n",
      "\n"
     ]
    }
   ],
   "source": [
    "df_names.describe().show(10)"
   ]
  },
  {
   "cell_type": "code",
   "execution_count": 59,
   "id": "6df26a05-7ceb-40ee-b35b-196845f69f73",
   "metadata": {},
   "outputs": [
    {
     "name": "stdout",
     "output_type": "stream",
     "text": [
      "+---------------------+-----------------------------+\n",
      "|product_category_name|product_category_name_english|\n",
      "+---------------------+-----------------------------+\n",
      "|         beleza_saude|                health_beauty|\n",
      "| informatica_acess...|         computers_accesso...|\n",
      "|           automotivo|                         auto|\n",
      "|      cama_mesa_banho|               bed_bath_table|\n",
      "|     moveis_decoracao|              furniture_decor|\n",
      "|        esporte_lazer|               sports_leisure|\n",
      "|           perfumaria|                    perfumery|\n",
      "| utilidades_domest...|                   housewares|\n",
      "|            telefonia|                    telephony|\n",
      "|   relogios_presentes|                watches_gifts|\n",
      "+---------------------+-----------------------------+\n",
      "only showing top 10 rows\n",
      "\n"
     ]
    }
   ],
   "source": [
    "df_names.show(10)"
   ]
  },
  {
   "cell_type": "code",
   "execution_count": 60,
   "id": "d5bbedf7-4072-4eff-92a9-35ac2e4454c9",
   "metadata": {},
   "outputs": [
    {
     "name": "stdout",
     "output_type": "stream",
     "text": [
      "root\n",
      " |-- product_category_name: string (nullable = true)\n",
      " |-- product_category_name_english: string (nullable = true)\n",
      "\n"
     ]
    }
   ],
   "source": [
    "df_names.printSchema()"
   ]
  },
  {
   "cell_type": "code",
   "execution_count": 61,
   "id": "fe46cf27-7185-4c36-a5ec-55bb68b5b469",
   "metadata": {},
   "outputs": [
    {
     "name": "stdout",
     "output_type": "stream",
     "text": [
      "Contagem de valores nulos:\n",
      "Coluna: product_category_name | Quantidade: 0\n",
      "Coluna: product_category_name_english | Quantidade: 0\n",
      "\n",
      "\n",
      "Contagem de valores zerados:\n",
      "Coluna: product_category_name | Quantidade: 0\n",
      "Coluna: product_category_name_english | Quantidade: 0\n",
      "\n",
      "\n",
      "Contagem de valores negativos:\n",
      "Coluna: product_category_name | Quantidade: 0\n",
      "Coluna: product_category_name_english | Quantidade: 0\n"
     ]
    }
   ],
   "source": [
    "print(f'Contagem de valores nulos:')\n",
    "for coluna in df_names.columns:\n",
    "    print('Coluna:', coluna, '| Quantidade:', df_names.filter(df_names[coluna].isNull()).count())\n",
    "\n",
    "print('\\n')\n",
    "\n",
    "print(f'Contagem de valores zerados:')\n",
    "for coluna in df_names.columns:\n",
    "    if isinstance(df_names.schema[coluna].dataType, TimestampType):\n",
    "        continue\n",
    "    print('Coluna:', coluna, '| Quantidade:', df_names.filter(df_names[coluna] == 0).count())\n",
    "\n",
    "print('\\n')\n",
    "\n",
    "print(f'Contagem de valores negativos:')\n",
    "for coluna in df_names.columns:\n",
    "    if isinstance(df_names.schema[coluna].dataType, TimestampType):\n",
    "        continue\n",
    "    print('Coluna:', coluna, '| Quantidade:', df_names.filter(df_names[coluna] < 0).count())"
   ]
  },
  {
   "cell_type": "code",
   "execution_count": 62,
   "id": "f20bde9a-879b-4107-bd91-1c0c587e0489",
   "metadata": {},
   "outputs": [],
   "source": [
    "spark.stop()"
   ]
  }
 ],
 "metadata": {
  "kernelspec": {
   "display_name": "Python 3 (ipykernel)",
   "language": "python",
   "name": "python3"
  },
  "language_info": {
   "codemirror_mode": {
    "name": "ipython",
    "version": 3
   },
   "file_extension": ".py",
   "mimetype": "text/x-python",
   "name": "python",
   "nbconvert_exporter": "python",
   "pygments_lexer": "ipython3",
   "version": "3.11.7"
  }
 },
 "nbformat": 4,
 "nbformat_minor": 5
}
